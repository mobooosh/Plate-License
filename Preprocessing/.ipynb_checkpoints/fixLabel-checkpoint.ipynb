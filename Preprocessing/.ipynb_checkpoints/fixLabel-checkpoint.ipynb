{
 "cells": [
  {
   "cell_type": "code",
   "execution_count": 1,
   "id": "5e5f848e-a635-4993-b426-ca6831817f4e",
   "metadata": {},
   "outputs": [],
   "source": [
    "#!pip install pyperclip\n",
    "# Install this package, then open and close the notebook"
   ]
  },
  {
   "cell_type": "code",
   "execution_count": 2,
   "id": "246607ec-89bd-4bb0-98b2-09f2cb36a5a6",
   "metadata": {},
   "outputs": [],
   "source": [
    "import os\n",
    "import shutil\n",
    "import cv2\n",
    "import random\n",
    "from IPython.display import clear_output\n",
    "import pyperclip\n",
    "import matplotlib.pyplot as plt"
   ]
  },
  {
   "cell_type": "markdown",
   "id": "54af5640-e7b2-4836-b047-56d12ce43803",
   "metadata": {},
   "source": [
    "#### << If the photo label is wrong, you can correct it by pressing the M key >>\n",
    "#### << If the photo label is wrong, the wrong label will be saved in the clipboard for ease of use >>\n",
    "#### << If the label is correct, just press enter >>\n",
    "#### << Press the Esc key to end the task >>\n",
    "#### << If the photo has a problem and does not fit the model, delete it by pressing the D key >>\n",
    "#### << Be sure to create the notFixedLabel and FixedLabel folders before starting work and put the photos\n",
    "#### with the wrong label into the notFixedLabel folder >>"
   ]
  },
  {
   "cell_type": "code",
   "execution_count": null,
   "id": "04cdc5ef-d077-489a-b25b-2e623dea771b",
   "metadata": {},
   "outputs": [
    {
     "name": "stdout",
     "output_type": "stream",
     "text": [
      "11M56946\n"
     ]
    }
   ],
   "source": [
    "# input images directory\n",
    "base_dir = 'newNotFixedLabel'\n",
    "\n",
    "# output image directory\n",
    "dest_dir = 'FixedLabel'\n",
    "\n",
    "\n",
    "for name in os.listdir(base_dir):\n",
    "    path = os.path.join(base_dir, name)\n",
    "    image = cv2.imread(path)\n",
    "    flag_end = False\n",
    "    flag_delete = False\n",
    "    flag_true_label = False\n",
    "    print(name.split('_')[0])\n",
    "    while True:\n",
    "        cv2.imshow(str(name.split('_')[0]), image)\n",
    "        key = cv2.waitKey(5) & 0xFF\n",
    "\n",
    "        if key == ord(\"m\"):\n",
    "            break\n",
    "\n",
    "        elif key == 27:\n",
    "            flag_end = True\n",
    "            break\n",
    "        \n",
    "        elif key == ord(\"d\"):\n",
    "            flag_delete = True\n",
    "            break\n",
    "        \n",
    "        elif key == 13:\n",
    "            flag_true_label = True\n",
    "            break\n",
    "            \n",
    "    if flag_end == True: \n",
    "        break\n",
    "\n",
    "    if flag_delete == True:\n",
    "        os.remove(path)\n",
    "        cv2.destroyAllWindows()\n",
    "        clear_output(wait=True)\n",
    "        print(path + ' was deleted!')\n",
    "        continue\n",
    "\n",
    "    if flag_true_label == True:\n",
    "        dest_path = os.path.join(dest_dir, name)\n",
    "        shutil.move(path, dest_path)\n",
    "    else:\n",
    "        pyperclip.copy(str(name.split('_')[0]))\n",
    "        name_of_plate = input('Enter Plate Number: ')\n",
    "        image_path = os.path.join(dest_dir, name_of_plate + '_' + str(random.randint(0, 1000000)) + '.JPG')\n",
    "\n",
    "        shutil.move(path, image_path)\n",
    "\n",
    "\n",
    "    \n",
    "    clear_output(wait=True)\n",
    "\n",
    "    cv2.destroyAllWindows()\n",
    "\n",
    "\n",
    "\n",
    "\n",
    "\n",
    "\n",
    "\n",
    "### ب = B\n",
    "### س = C\n",
    "### د = D\n",
    "### ه = H\n",
    "### ج = J\n",
    "### ط = K\n",
    "### ل = L\n",
    "### م = M\n",
    "### ن = N\n",
    "### ص = S\n",
    "### ت = T\n",
    "### و = V\n",
    "### ق = X\n",
    "### ع = Z\n",
    "### الف = A\n",
    "### ی = Y\n",
    "### پ = P\n",
    "### معلولین = F\n",
    "### ز = Q\n",
    "### ث = E\n",
    "\n",
    "cv2.destroyAllWindows()"
   ]
  },
  {
   "cell_type": "markdown",
   "id": "4d7f8b25-281d-4491-9a14-65bdc9f8b9cd",
   "metadata": {},
   "source": [
    "### ب = B\n",
    "### س = C\n",
    "### د = D\n",
    "### ه = H\n",
    "### ج = J\n",
    "### ط = K\n",
    "### ل = L\n",
    "### م = M\n",
    "### ن = N\n",
    "### ص = S\n",
    "### ت = T\n",
    "### و = V\n",
    "### ق = X\n",
    "### ع = Z\n",
    "### الف = A\n",
    "### ی = Y\n",
    "### پ = P\n",
    "### معلولین = F\n",
    "### ز = Q\n",
    "### ث = E"
   ]
  },
  {
   "cell_type": "code",
   "execution_count": null,
   "id": "a47011b2-e18f-425e-8fc0-2e9d2ee55b85",
   "metadata": {},
   "outputs": [],
   "source": [
    "cv2.destroyAllWindows()"
   ]
  },
  {
   "cell_type": "code",
   "execution_count": null,
   "id": "a2976663-93f6-48bc-89a5-f0dd815cf702",
   "metadata": {},
   "outputs": [],
   "source": []
  }
 ],
 "metadata": {
  "kernelspec": {
   "display_name": "Python 3 (ipykernel)",
   "language": "python",
   "name": "python3"
  },
  "language_info": {
   "codemirror_mode": {
    "name": "ipython",
    "version": 3
   },
   "file_extension": ".py",
   "mimetype": "text/x-python",
   "name": "python",
   "nbconvert_exporter": "python",
   "pygments_lexer": "ipython3",
   "version": "3.11.5"
  }
 },
 "nbformat": 4,
 "nbformat_minor": 5
}
