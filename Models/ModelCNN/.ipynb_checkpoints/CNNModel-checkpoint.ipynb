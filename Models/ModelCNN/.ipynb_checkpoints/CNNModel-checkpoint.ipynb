{
 "cells": [
  {
   "cell_type": "code",
   "execution_count": 1,
   "id": "df495c89-efc9-4292-a2ac-6309bfdc804c",
   "metadata": {},
   "outputs": [],
   "source": [
    "import os\n",
    "os.environ['TF_CPP_MIN_LOG_LEVEL'] = '20'"
   ]
  },
  {
   "cell_type": "code",
   "execution_count": 2,
   "id": "1a9986cf-51b0-4f05-ba2f-8c4285ea6c88",
   "metadata": {},
   "outputs": [],
   "source": [
    "import tensorflow as tf\n",
    "import numpy as np\n",
    "import keras\n",
    "import matplotlib.pyplot as plt\n",
    "from sklearn.model_selection import train_test_split\n",
    "from keras import layers"
   ]
  },
  {
   "cell_type": "code",
   "execution_count": null,
   "id": "a6673e59",
   "metadata": {},
   "outputs": [],
   "source": [
    "device = tf.config.list_physical_devices('GPU')[0]\n",
    "tf.config.experimental.set_memory_growth(device, True)"
   ]
  },
  {
   "cell_type": "code",
   "execution_count": null,
   "id": "52671c60",
   "metadata": {},
   "outputs": [],
   "source": [
    "train_dir = \"mergedData/\""
   ]
  },
  {
   "cell_type": "code",
   "execution_count": 4,
   "id": "743c4fe6-4af3-4641-ac38-95f5baa825cc",
   "metadata": {},
   "outputs": [],
   "source": [
    "path = os.listdir(train_dir)\n",
    "lbl = []\n",
    "for e in path:\n",
    "    lbl.append(e.split('_')[0])"
   ]
  },
  {
   "cell_type": "code",
   "execution_count": 5,
   "id": "85bb8d27-a6ba-45b8-a09d-97cfe8dbe141",
   "metadata": {},
   "outputs": [],
   "source": [
    "characters = set(char for label in lbl for char in label)\n",
    "characters = sorted(list(characters))\n",
    "char_to_num = layers.StringLookup(\n",
    "    vocabulary=list(characters), mask_token=None\n",
    ")\n",
    "num_to_char = layers.StringLookup(\n",
    "    vocabulary=char_to_num.get_vocabulary(), mask_token=None, invert=True\n",
    ")\n"
   ]
  },
  {
   "cell_type": "code",
   "execution_count": null,
   "id": "77e9a133",
   "metadata": {},
   "outputs": [],
   "source": [
    "dict_ = char_to_num.get_vocabulary()"
   ]
  },
  {
   "cell_type": "code",
   "execution_count": null,
   "id": "aeabe7f3",
   "metadata": {},
   "outputs": [],
   "source": [
    "image_paths = []\n",
    "tokenized_lbls = []\n",
    "for i in path:\n",
    "    image_paths.append(os.path.join(train_dir, i))\n",
    "    temp = []\n",
    "    for char in i.split('_')[0]:\n",
    "        temp.append(int(char_to_num(char)))\n",
    "    tokenized_lbls.append(temp)"
   ]
  },
  {
   "cell_type": "markdown",
   "id": "915a11b1-ba08-48bc-80ff-e896476af8f5",
   "metadata": {},
   "source": [
    "## Load Data"
   ]
  },
  {
   "cell_type": "code",
   "execution_count": 6,
   "id": "8fd1b26b-a993-424a-8544-f426e5257b6b",
   "metadata": {},
   "outputs": [],
   "source": [
    "AUTOTUNE = tf.data.experimental.AUTOTUNE\n",
    "tf.config.optimizer.set_jit(True)\n",
    "\n",
    "SHUFFLE_BUFFER_SIZE = 256\n",
    "BATCH_SIZE = 32\n",
    "height = 65\n",
    "width = 256\n",
    "\n",
    "def load_label(path):\n",
    "    label = tf.strings.split(path, '/')[-1]\n",
    "    label = tf.strings.split(label, '_')[0]\n",
    "    label = char_to_num(tf.strings.unicode_split(label, input_encoding=\"UTF-8\"))\n",
    "    return label\n",
    "\n",
    "def load_image(path):\n",
    "    image = tf.io.read_file(path)\n",
    "    return image\n",
    "\n",
    "def preprocessing_image(image):\n",
    "    image = tf.image.decode_jpeg(image, channels=1)\n",
    "    image = tf.image.convert_image_dtype(image, dtype=tf.float32)\n",
    "    image = tf.image.resize(image, [height, width])\n",
    "    image = tf.transpose(image, perm=[1, 0, 2])\n",
    "    return image\n",
    "\n",
    "def get_image_with_label(path):\n",
    "    label = load_label(path)\n",
    "    image = load_image(path)\n",
    "    image = preprocessing_image(image)\n",
    "    return image, label\n",
    "\n",
    "\n",
    "\n",
    "\n",
    "\n",
    "\n",
    "\n",
    "\n",
    "dataset = tf.data.Dataset.from_tensor_slices((image_paths, tokenized_lbls))\n",
    "\n",
    "\n",
    "validation_split = 0.1\n",
    "DATASET_SIZE = len(list(dataset))\n",
    "print(\"Dataset size: \", DATASET_SIZE)\n",
    "train_size = int((1-validation_split) * DATASET_SIZE)\n",
    "print(\"train size: \", train_size)\n",
    "train_dataset = dataset.take(train_size)\n",
    "validation_dataset = dataset.skip(train_size)\n",
    "\n",
    "\n",
    "\n",
    "train_dataset = train_dataset.map(load_image_label, num_parallel_calls=AUTOTUNE)\n",
    "train_dataset = train_dataset.shuffle(SHUFFLE_BUFFER_SIZE)\n",
    "train_dataset = train_dataset.batch(BATCH_SIZE, num_parallel_calls=AUTOTUNE)\n",
    "train_dataset = train_dataset.prefetch(AUTOTUNE)\n",
    "\n",
    "validation_dataset = validation_dataset.map(load_image_label, num_parallel_calls=AUTOTUNE)\n",
    "validation_dataset = validation_dataset.batch(BATCH_SIZE, num_parallel_calls=AUTOTUNE)\n",
    "validation_dataset = validation_dataset.prefetch(AUTOTUNE)\n"
   ]
  },
  {
   "cell_type": "markdown",
   "id": "6f77fda4-8cfc-44da-8db0-bdff0b702fee",
   "metadata": {},
   "source": [
    "### Define CNN Model"
   ]
  },
  {
   "cell_type": "code",
   "execution_count": 7,
   "id": "5c48d67d-c5cb-46fe-bd83-9ed0c5526981",
   "metadata": {},
   "outputs": [],
   "source": [
    "from keras.layers import GlobalAveragePooling2D, MaxPool1D, Conv1D, Reshape, Input, Dense, Conv2D, Dropout, MaxPooling2D, BatchNormalization\n",
    "from keras.models import Model\n",
    "from keras.losses import Loss\n",
    "from keras.optimizers import Optimizer"
   ]
  },
  {
   "cell_type": "code",
   "execution_count": 8,
   "id": "665f69bf-ae5b-47ec-af90-a82a6d38ce97",
   "metadata": {},
   "outputs": [],
   "source": [
    "new_shape = (width // 16, (height // 16) * 256)\n",
    "nclasses = len(char_to_num.get_vocabulary())"
   ]
  },
  {
   "cell_type": "code",
   "execution_count": 9,
   "id": "90984a0c-9ac8-4266-a2b1-f570876bb6eb",
   "metadata": {},
   "outputs": [
    {
     "name": "stdout",
     "output_type": "stream",
     "text": [
      "Model: \"model\"\n",
      "_________________________________________________________________\n",
      " Layer (type)                Output Shape              Param #   \n",
      "=================================================================\n",
      " input_1 (InputLayer)        [(None, 256, 65, 1)]      0         \n",
      "                                                                 \n",
      " conv2d (Conv2D)             (None, 256, 65, 32)       320       \n",
      "                                                                 \n",
      " max_pooling2d (MaxPooling2  (None, 128, 32, 32)       0         \n",
      " D)                                                              \n",
      "                                                                 \n",
      " conv2d_1 (Conv2D)           (None, 128, 32, 64)       18496     \n",
      "                                                                 \n",
      " max_pooling2d_1 (MaxPoolin  (None, 64, 16, 64)        0         \n",
      " g2D)                                                            \n",
      "                                                                 \n",
      " conv2d_2 (Conv2D)           (None, 64, 16, 128)       73856     \n",
      "                                                                 \n",
      " max_pooling2d_2 (MaxPoolin  (None, 32, 8, 128)        0         \n",
      " g2D)                                                            \n",
      "                                                                 \n",
      " conv2d_3 (Conv2D)           (None, 32, 8, 256)        295168    \n",
      "                                                                 \n",
      " max_pooling2d_3 (MaxPoolin  (None, 16, 4, 256)        0         \n",
      " g2D)                                                            \n",
      "                                                                 \n",
      " reshape (Reshape)           (None, 16, 1024)          0         \n",
      "                                                                 \n",
      " dense (Dense)               (None, 16, 128)           131200    \n",
      "                                                                 \n",
      " dropout (Dropout)           (None, 16, 128)           0         \n",
      "                                                                 \n",
      " conv1d (Conv1D)             (None, 16, 64)            24640     \n",
      "                                                                 \n",
      " max_pooling1d (MaxPooling1  (None, 8, 64)             0         \n",
      " D)                                                              \n",
      "                                                                 \n",
      " dropout_1 (Dropout)         (None, 8, 64)             0         \n",
      "                                                                 \n",
      " dense_1 (Dense)             (None, 8, 28)             1820      \n",
      "                                                                 \n",
      "=================================================================\n",
      "Total params: 545500 (2.08 MB)\n",
      "Trainable params: 545500 (2.08 MB)\n",
      "Non-trainable params: 0 (0.00 Byte)\n",
      "_________________________________________________________________\n"
     ]
    }
   ],
   "source": [
    "input_layer = Input(shape=(width, height, 1))\n",
    "conv2d_1 = Conv2D(32,(3, 3), activation=\"relu\", padding=\"same\")(input_layer)\n",
    "maxpool_1 = MaxPooling2D((2, 2))(conv2d_1)\n",
    "\n",
    "conv2d_2 = Conv2D(64,(3, 3), activation=\"relu\", padding=\"same\")(maxpool_1)\n",
    "maxpool_2 = MaxPooling2D((2, 2))(conv2d_2)\n",
    "\n",
    "conv2d_3 = Conv2D(128,(3, 3), activation=\"relu\", padding=\"same\")(maxpool_2)\n",
    "maxpool_3 = MaxPooling2D((2, 2))(conv2d_3)\n",
    "\n",
    "conv2d_4 = Conv2D(256,(3, 3), activation=\"relu\", padding=\"same\")(maxpool_3)\n",
    "maxpool_4 = MaxPooling2D((2, 2))(conv2d_4)\n",
    "\n",
    "reshape = Reshape(target_shape=new_shape)(maxpool_4)\n",
    "dense_1 = Dense(128, activation=\"relu\")(reshape)\n",
    "dropout1 = Dropout(0.2)(dense_1)\n",
    "\n",
    "conv1d = Conv1D(64, 3, activation=\"relu\", padding=\"same\")(dropout1)\n",
    "\n",
    "maxpool_5 = MaxPool1D(2)(conv1d)\n",
    "\n",
    "dropout2 = Dropout(0.5)(maxpool_5)\n",
    "\n",
    "output_layer = Dense(nclasses, activation=\"softmax\")(dropout2)\n",
    "model = Model(inputs=input_layer, outputs=output_layer)\n",
    "model.summary()"
   ]
  },
  {
   "cell_type": "code",
   "execution_count": 10,
   "id": "9e984a03-057d-4747-a270-13f62263e932",
   "metadata": {},
   "outputs": [],
   "source": [
    "opt = tf.keras.optimizers.Adam(learning_rate=1e-3)\n",
    "loss_obj = keras.losses.SparseCategoricalCrossentropy()\n",
    "accuracy = keras.metrics.Accuracy()\n",
    "\n",
    "model.compile(\n",
    "    optimizer=keras.optimizers.Adam(),\n",
    "    loss=keras.losses.SparseCategoricalCrossentropy(),\n",
    "    metrics=['accuracy']\n",
    ")\n",
    "early_stopping_patience = 15\n",
    "early_stopping = keras.callbacks.EarlyStopping(\n",
    "    monitor=\"val_loss\", patience=early_stopping_patience, restore_best_weights=True\n",
    ")\n",
    "reduce_lr = keras.callbacks.ReduceLROnPlateau(monitor='val_loss', factor=0.7,\n",
    "                              patience=3, min_lr=0.0001)\n",
    "\n",
    "callbacks = [keras.callbacks.TensorBoard(), early_stopping, reduce_lr]"
   ]
  },
  {
   "cell_type": "code",
   "execution_count": 11,
   "id": "1efbdcb5-fe00-4f5d-a8ff-b06347839095",
   "metadata": {},
   "outputs": [
    {
     "name": "stdout",
     "output_type": "stream",
     "text": [
      "Epoch 1/20\n"
     ]
    },
    {
     "name": "stderr",
     "output_type": "stream",
     "text": [
      "WARNING: All log messages before absl::InitializeLog() is called are written to STDERR\n",
      "I0000 00:00:1718385888.541237   82804 device_compiler.h:186] Compiled cluster using XLA!  This line is logged at most once for the lifetime of the process.\n",
      "W0000 00:00:1718385894.424228   82805 graph_launch.cc:671] Fallback to op-by-op mode because memset node breaks graph update\n"
     ]
    },
    {
     "name": "stdout",
     "output_type": "stream",
     "text": [
      "312/312 [==============================] - 20s 26ms/step - loss: 2.3293 - accuracy: 0.2643 - val_loss: 1.2080 - val_accuracy: 0.6431\n",
      "Epoch 2/20\n",
      "312/312 [==============================] - 13s 42ms/step - loss: 1.0058 - accuracy: 0.6964 - val_loss: 0.6150 - val_accuracy: 0.8214\n",
      "Epoch 3/20\n",
      "312/312 [==============================] - 4s 14ms/step - loss: 0.6738 - accuracy: 0.8055 - val_loss: 0.3485 - val_accuracy: 0.9181\n",
      "Epoch 4/20\n",
      "312/312 [==============================] - 4s 14ms/step - loss: 0.5118 - accuracy: 0.8619 - val_loss: 0.2622 - val_accuracy: 0.9338\n",
      "Epoch 5/20\n",
      "312/312 [==============================] - 4s 14ms/step - loss: 0.4218 - accuracy: 0.8864 - val_loss: 0.2186 - val_accuracy: 0.9435\n",
      "Epoch 6/20\n",
      "312/312 [==============================] - 4s 14ms/step - loss: 0.3595 - accuracy: 0.9058 - val_loss: 0.2008 - val_accuracy: 0.9513\n",
      "Epoch 7/20\n",
      "312/312 [==============================] - 4s 14ms/step - loss: 0.3192 - accuracy: 0.9154 - val_loss: 0.1815 - val_accuracy: 0.9594\n",
      "Epoch 8/20\n",
      "312/312 [==============================] - 4s 14ms/step - loss: 0.2882 - accuracy: 0.9239 - val_loss: 0.1661 - val_accuracy: 0.9567\n",
      "Epoch 9/20\n",
      "312/312 [==============================] - 4s 14ms/step - loss: 0.2595 - accuracy: 0.9317 - val_loss: 0.1819 - val_accuracy: 0.9548\n",
      "Epoch 10/20\n",
      "312/312 [==============================] - 4s 14ms/step - loss: 0.2384 - accuracy: 0.9358 - val_loss: 0.1462 - val_accuracy: 0.9668\n",
      "Epoch 11/20\n",
      "312/312 [==============================] - 4s 14ms/step - loss: 0.2209 - accuracy: 0.9402 - val_loss: 0.1458 - val_accuracy: 0.9623\n",
      "Epoch 12/20\n",
      "312/312 [==============================] - 4s 14ms/step - loss: 0.2036 - accuracy: 0.9458 - val_loss: 0.1562 - val_accuracy: 0.9623\n",
      "Epoch 13/20\n",
      "312/312 [==============================] - 4s 14ms/step - loss: 0.1851 - accuracy: 0.9496 - val_loss: 0.1430 - val_accuracy: 0.9641\n",
      "Epoch 14/20\n",
      "312/312 [==============================] - 4s 14ms/step - loss: 0.1807 - accuracy: 0.9518 - val_loss: 0.1387 - val_accuracy: 0.9672\n",
      "Epoch 15/20\n",
      "312/312 [==============================] - 4s 14ms/step - loss: 0.1734 - accuracy: 0.9534 - val_loss: 0.1469 - val_accuracy: 0.9660\n",
      "Epoch 16/20\n",
      "312/312 [==============================] - 4s 14ms/step - loss: 0.1609 - accuracy: 0.9563 - val_loss: 0.1632 - val_accuracy: 0.9670\n",
      "Epoch 17/20\n",
      "312/312 [==============================] - 4s 14ms/step - loss: 0.1439 - accuracy: 0.9597 - val_loss: 0.1354 - val_accuracy: 0.9684\n",
      "Epoch 18/20\n",
      "312/312 [==============================] - 4s 14ms/step - loss: 0.1402 - accuracy: 0.9595 - val_loss: 0.1595 - val_accuracy: 0.9713\n",
      "Epoch 19/20\n",
      "312/312 [==============================] - 4s 14ms/step - loss: 0.1419 - accuracy: 0.9601 - val_loss: 0.1492 - val_accuracy: 0.9693\n",
      "Epoch 20/20\n",
      "312/312 [==============================] - 4s 14ms/step - loss: 0.1295 - accuracy: 0.9636 - val_loss: 0.1496 - val_accuracy: 0.9676\n"
     ]
    },
    {
     "data": {
      "text/plain": [
       "<keras.src.callbacks.History at 0x7fa4cbf20850>"
      ]
     },
     "execution_count": 11,
     "metadata": {},
     "output_type": "execute_result"
    }
   ],
   "source": [
    "model.fit(train_dataset, validation_data=validation_dataset, epochs=50, callbacks=callbacks)"
   ]
  },
  {
   "cell_type": "code",
   "execution_count": 18,
   "id": "55443271-f00e-47e7-a8b5-59cf88787286",
   "metadata": {},
   "outputs": [],
   "source": [
    "model.save('ModelCNN.tf')"
   ]
  },
  {
   "cell_type": "code",
   "execution_count": null,
   "id": "41cbc2ac",
   "metadata": {},
   "outputs": [],
   "source": [
    "# best_model = tf.keras.models.load_model('./ModelCNN.tf/')"
   ]
  }
 ],
 "metadata": {
  "kernelspec": {
   "display_name": "Python 3 (ipykernel)",
   "language": "python",
   "name": "python3"
  },
  "language_info": {
   "codemirror_mode": {
    "name": "ipython",
    "version": 3
   },
   "file_extension": ".py",
   "mimetype": "text/x-python",
   "name": "python",
   "nbconvert_exporter": "python",
   "pygments_lexer": "ipython3",
   "version": "3.11.5"
  }
 },
 "nbformat": 4,
 "nbformat_minor": 5
}
