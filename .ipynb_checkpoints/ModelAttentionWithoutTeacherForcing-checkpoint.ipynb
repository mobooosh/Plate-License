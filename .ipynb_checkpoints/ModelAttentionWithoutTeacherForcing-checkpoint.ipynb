{
 "cells": [
  {
   "cell_type": "code",
   "execution_count": 1,
   "id": "24050dfb-e631-49e0-8594-fb0869de289a",
   "metadata": {},
   "outputs": [],
   "source": [
    "import os\n",
    "os.environ['TF_CPP_MIN_LOG_LEVEL'] = '15'"
   ]
  },
  {
   "cell_type": "code",
   "execution_count": 2,
   "id": "e52432a9-5251-4a31-b93a-ea408b412c9a",
   "metadata": {
    "scrolled": true
   },
   "outputs": [],
   "source": [
    "import tensorflow as tf"
   ]
  },
  {
   "cell_type": "code",
   "execution_count": 3,
   "id": "d8f2ae9f-7bfd-4f5b-9ee1-d649b896653f",
   "metadata": {},
   "outputs": [
    {
     "data": {
      "text/plain": [
       "'2.15.1'"
      ]
     },
     "execution_count": 3,
     "metadata": {},
     "output_type": "execute_result"
    }
   ],
   "source": [
    "tf.__version__"
   ]
  },
  {
   "cell_type": "code",
   "execution_count": 4,
   "id": "2eb94722-6a8c-4ee9-aa03-5ae9f8c9f6af",
   "metadata": {},
   "outputs": [
    {
     "data": {
      "text/plain": [
       "[PhysicalDevice(name='/physical_device:CPU:0', device_type='CPU'),\n",
       " PhysicalDevice(name='/physical_device:GPU:0', device_type='GPU')]"
      ]
     },
     "execution_count": 4,
     "metadata": {},
     "output_type": "execute_result"
    }
   ],
   "source": [
    "tf.config.experimental.list_physical_devices()"
   ]
  },
  {
   "cell_type": "code",
   "execution_count": 5,
   "id": "2a442b64-feea-4aac-926c-9fd50d1a0546",
   "metadata": {},
   "outputs": [
    {
     "name": "stdout",
     "output_type": "stream",
     "text": [
      "[PhysicalDevice(name='/physical_device:GPU:0', device_type='GPU')]\n"
     ]
    }
   ],
   "source": [
    "print(tf.config.list_physical_devices('GPU'))"
   ]
  },
  {
   "cell_type": "code",
   "execution_count": 6,
   "id": "58536fcc-261d-4f25-a6ca-abd1a4c98e02",
   "metadata": {},
   "outputs": [],
   "source": [
    "device = tf.config.list_physical_devices('GPU')[0]\n",
    "tf.config.experimental.set_memory_growth(device, True)"
   ]
  },
  {
   "cell_type": "code",
   "execution_count": 7,
   "id": "44dac6e2-5b91-4b25-9bc1-f7697af7b609",
   "metadata": {},
   "outputs": [],
   "source": [
    "from tensorflow import keras\n",
    "import numpy as np\n",
    "import matplotlib.pyplot as plt\n",
    "from keras.layers import Attention, Lambda, GRU, GlobalAveragePooling1D, Concatenate, Reshape, Conv2D, MaxPooling2D, Dropout, Dense, Flatten, LSTM, Input, BatchNormalization, GlobalAveragePooling2D\n",
    "from keras.layers import Embedding\n",
    "import os\n",
    "from keras import layers"
   ]
  },
  {
   "cell_type": "code",
   "execution_count": 8,
   "id": "354525d0-856b-49e4-97cd-e512d2569bf3",
   "metadata": {},
   "outputs": [],
   "source": [
    "train_dir = \"mergedData\""
   ]
  },
  {
   "cell_type": "code",
   "execution_count": 9,
   "id": "4d8897b5-dae2-4d7a-83a5-a8c9c500ea78",
   "metadata": {},
   "outputs": [],
   "source": [
    "path = os.listdir(train_dir)\n",
    "lbl = []\n",
    "for e in path:\n",
    "    lbl.append(e.split('_')[0])"
   ]
  },
  {
   "cell_type": "code",
   "execution_count": 10,
   "id": "edfd7c5c-25e9-447e-a0f7-d254b7c56208",
   "metadata": {},
   "outputs": [],
   "source": [
    "characters = set(char for label in lbl for char in label)\n",
    "\n",
    "characters = sorted(list(characters))\n",
    "\n",
    "char_to_num = layers.StringLookup(\n",
    "    vocabulary=list(characters), mask_token=None\n",
    ")\n",
    "num_to_char = layers.StringLookup(\n",
    "    vocabulary=char_to_num.get_vocabulary(), mask_token=None, invert=True\n",
    ")"
   ]
  },
  {
   "cell_type": "code",
   "execution_count": 11,
   "id": "994d8952-8349-4664-a7a2-62f81049f065",
   "metadata": {},
   "outputs": [],
   "source": [
    "dict_ = char_to_num.get_vocabulary()"
   ]
  },
  {
   "cell_type": "code",
   "execution_count": 12,
   "id": "1e0a17aa-96b7-4331-acbd-5c53af5716eb",
   "metadata": {},
   "outputs": [],
   "source": [
    "image_paths = []\n",
    "tokenized_lbls = []\n",
    "for i in path:\n",
    "    image_paths.append(os.path.join(train_dir, i))\n",
    "    temp = []\n",
    "    for char in i.split('_')[0]:\n",
    "        temp.append(int(char_to_num(char)))\n",
    "    tokenized_lbls.append(temp)"
   ]
  },
  {
   "cell_type": "code",
   "execution_count": 13,
   "id": "5b58123f-e00d-4f40-989d-33f8b1fb3a35",
   "metadata": {},
   "outputs": [],
   "source": [
    "tf.config.optimizer.set_jit(True)\n",
    "AUTOTUNE = tf.data.experimental.AUTOTUNE\n",
    "desired_height = 65\n",
    "desired_width = 256\n",
    "\n",
    "def normalization(image):\n",
    "    image = tf.image.convert_image_dtype(image, tf.float32)\n",
    "    return image\n",
    "\n",
    "def load_image(path):\n",
    "    image = tf.io.read_file(path)\n",
    "    image = tf.image.decode_jpeg(image, channels=1)\n",
    "    image = normalization(image)    \n",
    "    image = tf.image.resize(image, [desired_height, desired_width])\n",
    "    image = tf.transpose(image, perm=[1, 0, 2])\n",
    "    return image\n",
    "\n",
    "# def data_augmentation(image):\n",
    "#     image = tf.image.adjust_contrast(image, 0.4)\n",
    "#     image = tf.image.adjust_brightness(image, 0.3)\n",
    "#     image = tf.image.adjust_saturation(image, 0.3)\n",
    "#     return image\n",
    "\n",
    "\n",
    "def load_image_label(path, label):\n",
    "    image = load_image(path)\n",
    "    # image = data_augmentation(image)\n",
    "    label = tf.cast(label, tf.float32)\n",
    "    return image, label\n",
    "    \n",
    "SHUFFLE_BUFFER_SIZE = 256\n",
    "BATCH_SIZE = 32"
   ]
  },
  {
   "cell_type": "code",
   "execution_count": 14,
   "id": "a9aef425-c201-49f5-b2ce-d7a6b163e902",
   "metadata": {},
   "outputs": [
    {
     "name": "stdout",
     "output_type": "stream",
     "text": [
      "Dataset size:  8519\n",
      "train size:  6815\n"
     ]
    }
   ],
   "source": [
    "dataset = tf.data.Dataset.from_tensor_slices((image_paths, tokenized_lbls))\n",
    "\n",
    "\n",
    "validation_split = 0.2\n",
    "DATASET_SIZE = len(list(dataset))\n",
    "print(\"Dataset size: \", DATASET_SIZE)\n",
    "train_size = int((1-validation_split) * DATASET_SIZE)\n",
    "print(\"train size: \", train_size)\n",
    "train_dataset = dataset.take(train_size)\n",
    "validation_dataset = dataset.skip(train_size)\n",
    "\n",
    "\n",
    "\n",
    "train_dataset = train_dataset.map(load_image_label, num_parallel_calls=AUTOTUNE)\n",
    "train_dataset = train_dataset.shuffle(SHUFFLE_BUFFER_SIZE)\n",
    "train_dataset = train_dataset.batch(BATCH_SIZE, num_parallel_calls=AUTOTUNE)\n",
    "train_dataset = train_dataset.prefetch(AUTOTUNE)\n",
    "\n",
    "validation_dataset = validation_dataset.map(load_image_label, num_parallel_calls=AUTOTUNE)\n",
    "validation_dataset = validation_dataset.batch(BATCH_SIZE, num_parallel_calls=AUTOTUNE)\n",
    "validation_dataset = validation_dataset.prefetch(AUTOTUNE)"
   ]
  },
  {
   "cell_type": "code",
   "execution_count": 15,
   "id": "f4c5deca-985d-473c-a1bf-0267b63f68d0",
   "metadata": {},
   "outputs": [
    {
     "name": "stdout",
     "output_type": "stream",
     "text": [
      "tf.Tensor([ 3.  5. 17.  5.  2.  5.  3.  6.], shape=(8,), dtype=float32)\n"
     ]
    },
    {
     "data": {
      "image/png": "[encoded data removed]",
      "text/plain": [
       "<Figure size 640x480 with 1 Axes>"
      ]
     },
     "metadata": {},
     "output_type": "display_data"
    }
   ],
   "source": [
    "for source, label in train_dataset.take(1):\n",
    "    source = source[0]\n",
    "    label = label[0]\n",
    "    plt.imshow((source))\n",
    "    print(label)"
   ]
  },
  {
   "cell_type": "code",
   "execution_count": 16,
   "id": "99cd457a-a96c-42cb-9083-a700d85996ef",
   "metadata": {},
   "outputs": [],
   "source": [
    "from keras.models import Model\n",
    "new_shape = (desired_width // 16, (desired_height // 16) * 256)\n",
    "nclasses = len(char_to_num.get_vocabulary())\n",
    "# Encoder\n",
    "\n",
    "input_layer = tf.keras.Input(shape=(desired_width, desired_height, 1))\n",
    "conv2d1 = layers.Conv2D(32, (3, 3), activation=\"relu\", padding=\"same\")(input_layer)\n",
    "pool1 = layers.MaxPooling2D((2, 2))(conv2d1)\n",
    "\n",
    "conv2d2 = layers.Conv2D(64, (3, 3), activation=\"relu\", padding=\"same\")(pool1)\n",
    "pool2 = layers.MaxPooling2D((2, 2))(conv2d2)\n",
    "\n",
    "conv2d3 = layers.Conv2D(128, (3, 3), activation=\"relu\", padding=\"same\")(pool2)\n",
    "pool3 = layers.MaxPooling2D((2, 2))(conv2d3)\n",
    "\n",
    "conv2d4 = layers.Conv2D(256, (3, 3), activation=\"relu\", padding=\"same\")(pool3)\n",
    "pool4 = layers.MaxPooling2D((2, 2))(conv2d4)\n",
    "\n",
    "reshape = layers.Reshape(target_shape=new_shape)(pool4)\n",
    "dense_1 = layers.Dense(128, activation=\"relu\")(reshape)\n",
    "dropout1 = layers.Dropout(0.2)(dense_1)\n",
    "con1d = layers.Conv1D(64, 3, activation=\"relu\", padding=\"same\")(dropout1)"
   ]
  },
  {
   "cell_type": "code",
   "execution_count": 17,
   "id": "da3f9ade-ecd1-4bf3-b1ce-cc92d8506784",
   "metadata": {},
   "outputs": [
    {
     "name": "stdout",
     "output_type": "stream",
     "text": [
      "Model: \"model\"\n",
      "__________________________________________________________________________________________________\n",
      " Layer (type)                Output Shape                 Param #   Connected to                  \n",
      "==================================================================================================\n",
      " input_1 (InputLayer)        [(None, 256, 65, 1)]         0         []                            \n",
      "                                                                                                  \n",
      " conv2d (Conv2D)             (None, 256, 65, 32)          320       ['input_1[0][0]']             \n",
      "                                                                                                  \n",
      " max_pooling2d (MaxPooling2  (None, 128, 32, 32)          0         ['conv2d[0][0]']              \n",
      " D)                                                                                               \n",
      "                                                                                                  \n",
      " conv2d_1 (Conv2D)           (None, 128, 32, 64)          18496     ['max_pooling2d[0][0]']       \n",
      "                                                                                                  \n",
      " max_pooling2d_1 (MaxPoolin  (None, 64, 16, 64)           0         ['conv2d_1[0][0]']            \n",
      " g2D)                                                                                             \n",
      "                                                                                                  \n",
      " conv2d_2 (Conv2D)           (None, 64, 16, 128)          73856     ['max_pooling2d_1[0][0]']     \n",
      "                                                                                                  \n",
      " max_pooling2d_2 (MaxPoolin  (None, 32, 8, 128)           0         ['conv2d_2[0][0]']            \n",
      " g2D)                                                                                             \n",
      "                                                                                                  \n",
      " conv2d_3 (Conv2D)           (None, 32, 8, 256)           295168    ['max_pooling2d_2[0][0]']     \n",
      "                                                                                                  \n",
      " max_pooling2d_3 (MaxPoolin  (None, 16, 4, 256)           0         ['conv2d_3[0][0]']            \n",
      " g2D)                                                                                             \n",
      "                                                                                                  \n",
      " reshape (Reshape)           (None, 16, 1024)             0         ['max_pooling2d_3[0][0]']     \n",
      "                                                                                                  \n",
      " dense (Dense)               (None, 16, 128)              131200    ['reshape[0][0]']             \n",
      "                                                                                                  \n",
      " dropout (Dropout)           (None, 16, 128)              0         ['dense[0][0]']               \n",
      "                                                                                                  \n",
      " conv1d (Conv1D)             (None, 16, 64)               24640     ['dropout[0][0]']             \n",
      "                                                                                                  \n",
      " tf.reshape (TFOpLambda)     (None, 16, 64)               0         ['conv1d[0][0]']              \n",
      "                                                                                                  \n",
      " lstm (LSTM)                 [(None, 16, 64),             33024     ['tf.reshape[0][0]']          \n",
      "                              (None, 64),                                                         \n",
      "                              (None, 64)]                                                         \n",
      "                                                                                                  \n",
      " attention (Attention)       (None, 16, 64)               0         ['lstm[0][0]',                \n",
      "                                                                     'lstm[0][0]']                \n",
      "                                                                                                  \n",
      " concatenate (Concatenate)   (None, 16, 128)              0         ['lstm[0][0]',                \n",
      "                                                                     'attention[0][0]']           \n",
      "                                                                                                  \n",
      " max_pooling1d (MaxPooling1  (None, 8, 128)               0         ['concatenate[0][0]']         \n",
      " D)                                                                                               \n",
      "                                                                                                  \n",
      " dense_1 (Dense)             (None, 8, 29)                3741      ['max_pooling1d[0][0]']       \n",
      "                                                                                                  \n",
      "==================================================================================================\n",
      "Total params: 580445 (2.21 MB)\n",
      "Trainable params: 580445 (2.21 MB)\n",
      "Non-trainable params: 0 (0.00 Byte)\n",
      "__________________________________________________________________________________________________\n"
     ]
    }
   ],
   "source": [
    "reshaped = tf.reshape(con1d, (-1, 16, 64))\n",
    "\n",
    "# LSTM layers\n",
    "lstm_out, state_h, state_c = LSTM(64, return_sequences=True, return_state=True)(reshaped)\n",
    "\n",
    "attention_output = Attention()([lstm_out, lstm_out])\n",
    "context_vector = Concatenate()([lstm_out, attention_output])\n",
    "\n",
    "pool11 = layers.MaxPooling1D((2, ))(context_vector)\n",
    "\n",
    "output = Dense(len(dict_), activation='softmax')(pool11)\n",
    "\n",
    "model = Model(inputs=input_layer, outputs=output)\n",
    "\n",
    "model.compile(optimizer='adam', loss='categorical_crossentropy', metrics=['accuracy'])\n",
    "\n",
    "model.summary()"
   ]
  },
  {
   "cell_type": "code",
   "execution_count": 18,
   "id": "6bcfbd64-7d39-4770-bec9-22780727a8ea",
   "metadata": {},
   "outputs": [],
   "source": [
    "# from keras.utils import plot_model\n",
    "# plot_model(model, show_dtype=True, show_shapes=True, show_layer_names=True)"
   ]
  },
  {
   "cell_type": "code",
   "execution_count": 19,
   "id": "a0d711de-f7d4-4e96-a2ea-2f44495d4cf1",
   "metadata": {},
   "outputs": [],
   "source": [
    "opt = tf.keras.optimizers.Adam(learning_rate=1e-3)\n",
    "\n",
    "\n",
    "model.compile(\n",
    "    optimizer=opt,\n",
    "    loss='sparse_categorical_crossentropy',\n",
    "    metrics=['accuracy'],\n",
    "\n",
    ")"
   ]
  },
  {
   "cell_type": "code",
   "execution_count": 20,
   "id": "5256cb7a-c916-4e14-a496-e242dfffa0a4",
   "metadata": {},
   "outputs": [],
   "source": [
    "epochs = 100\n",
    "early_stopping_patience = 10\n",
    "early_stopping = keras.callbacks.EarlyStopping(\n",
    "    monitor=\"val_loss\", patience=early_stopping_patience, restore_best_weights=True\n",
    ")\n",
    "reduce_lr = keras.callbacks.ReduceLROnPlateau(monitor='val_loss', factor=0.5,\n",
    "                              patience=4, min_lr=0.001)"
   ]
  },
  {
   "cell_type": "code",
   "execution_count": 21,
   "id": "915bd6c4-8590-442f-bfa4-316d930e49c7",
   "metadata": {},
   "outputs": [
    {
     "name": "stdout",
     "output_type": "stream",
     "text": [
      "Epoch 1/100\n"
     ]
    },
    {
     "name": "stderr",
     "output_type": "stream",
     "text": [
      "WARNING: All log messages before absl::InitializeLog() is called are written to STDERR\n",
      "I0000 00:00:1718559887.556468  101086 device_compiler.h:186] Compiled cluster using XLA!  This line is logged at most once for the lifetime of the process.\n",
      "W0000 00:00:1718559887.562771  101086 graph_launch.cc:671] Fallback to op-by-op mode because memset node breaks graph update\n"
     ]
    },
    {
     "name": "stdout",
     "output_type": "stream",
     "text": [
      "213/213 [==============================] - 27s 50ms/step - loss: 2.5718 - accuracy: 0.1731 - val_loss: 2.4984 - val_accuracy: 0.1914\n",
      "Epoch 2/100\n",
      "211/213 [============================>.] - ETA: 0s - loss: 2.4160 - accuracy: 0.2056"
     ]
    },
    {
     "name": "stderr",
     "output_type": "stream",
     "text": [
      "W0000 00:00:1718559915.829308  101080 graph_launch.cc:671] Fallback to op-by-op mode because memset node breaks graph update\n"
     ]
    },
    {
     "name": "stdout",
     "output_type": "stream",
     "text": [
      "213/213 [==============================] - ETA: 0s - loss: 2.4138 - accuracy: 0.2065"
     ]
    },
    {
     "name": "stderr",
     "output_type": "stream",
     "text": [
      "W0000 00:00:1718559923.932066  101080 graph_launch.cc:671] Fallback to op-by-op mode because memset node breaks graph update\n"
     ]
    },
    {
     "name": "stdout",
     "output_type": "stream",
     "text": [
      "213/213 [==============================] - 19s 87ms/step - loss: 2.4138 - accuracy: 0.2065 - val_loss: 2.0717 - val_accuracy: 0.3183\n",
      "Epoch 3/100\n",
      "213/213 [==============================] - 6s 26ms/step - loss: 1.4910 - accuracy: 0.5106 - val_loss: 0.9533 - val_accuracy: 0.7049\n",
      "Epoch 4/100\n",
      "213/213 [==============================] - 6s 26ms/step - loss: 0.7998 - accuracy: 0.7577 - val_loss: 0.5842 - val_accuracy: 0.8359\n",
      "Epoch 5/100\n",
      "213/213 [==============================] - 6s 26ms/step - loss: 0.5241 - accuracy: 0.8507 - val_loss: 0.3897 - val_accuracy: 0.8933\n",
      "Epoch 6/100\n",
      "213/213 [==============================] - 6s 26ms/step - loss: 0.3883 - accuracy: 0.8909 - val_loss: 0.3152 - val_accuracy: 0.9134\n",
      "Epoch 7/100\n",
      "213/213 [==============================] - 6s 26ms/step - loss: 0.3118 - accuracy: 0.9110 - val_loss: 0.2749 - val_accuracy: 0.9228\n",
      "Epoch 8/100\n",
      "213/213 [==============================] - 6s 26ms/step - loss: 0.2606 - accuracy: 0.9255 - val_loss: 0.2415 - val_accuracy: 0.9310\n",
      "Epoch 9/100\n",
      "213/213 [==============================] - 6s 26ms/step - loss: 0.2271 - accuracy: 0.9344 - val_loss: 0.2163 - val_accuracy: 0.9378\n",
      "Epoch 10/100\n",
      "213/213 [==============================] - 6s 26ms/step - loss: 0.1881 - accuracy: 0.9464 - val_loss: 0.2004 - val_accuracy: 0.9426\n",
      "Epoch 11/100\n",
      "213/213 [==============================] - 6s 26ms/step - loss: 0.1728 - accuracy: 0.9499 - val_loss: 0.2109 - val_accuracy: 0.9403\n",
      "Epoch 12/100\n",
      "213/213 [==============================] - 6s 26ms/step - loss: 0.1511 - accuracy: 0.9556 - val_loss: 0.1727 - val_accuracy: 0.9514\n",
      "Epoch 13/100\n",
      "213/213 [==============================] - 6s 26ms/step - loss: 0.1349 - accuracy: 0.9613 - val_loss: 0.1744 - val_accuracy: 0.9516\n",
      "Epoch 14/100\n",
      "213/213 [==============================] - 6s 26ms/step - loss: 0.1246 - accuracy: 0.9640 - val_loss: 0.1657 - val_accuracy: 0.9533\n",
      "Epoch 15/100\n",
      "213/213 [==============================] - 6s 26ms/step - loss: 0.1120 - accuracy: 0.9672 - val_loss: 0.1552 - val_accuracy: 0.9570\n",
      "Epoch 16/100\n",
      "213/213 [==============================] - 6s 26ms/step - loss: 0.1049 - accuracy: 0.9691 - val_loss: 0.1587 - val_accuracy: 0.9573\n",
      "Epoch 17/100\n",
      "213/213 [==============================] - 6s 26ms/step - loss: 0.0927 - accuracy: 0.9731 - val_loss: 0.1543 - val_accuracy: 0.9578\n",
      "Epoch 18/100\n",
      "213/213 [==============================] - 6s 26ms/step - loss: 0.0850 - accuracy: 0.9749 - val_loss: 0.1466 - val_accuracy: 0.9605\n",
      "Epoch 19/100\n",
      "213/213 [==============================] - 6s 26ms/step - loss: 0.0802 - accuracy: 0.9768 - val_loss: 0.1471 - val_accuracy: 0.9597\n",
      "Epoch 20/100\n",
      "213/213 [==============================] - 6s 26ms/step - loss: 0.0726 - accuracy: 0.9794 - val_loss: 0.1460 - val_accuracy: 0.9608\n",
      "Epoch 21/100\n",
      "213/213 [==============================] - 6s 26ms/step - loss: 0.0720 - accuracy: 0.9786 - val_loss: 0.1509 - val_accuracy: 0.9594\n",
      "Epoch 22/100\n",
      "213/213 [==============================] - 6s 26ms/step - loss: 0.0671 - accuracy: 0.9803 - val_loss: 0.1391 - val_accuracy: 0.9639\n",
      "Epoch 23/100\n",
      "213/213 [==============================] - 6s 26ms/step - loss: 0.0616 - accuracy: 0.9824 - val_loss: 0.1494 - val_accuracy: 0.9605\n",
      "Epoch 24/100\n",
      "213/213 [==============================] - 6s 26ms/step - loss: 0.0521 - accuracy: 0.9851 - val_loss: 0.1344 - val_accuracy: 0.9659\n",
      "Epoch 25/100\n",
      "213/213 [==============================] - 6s 26ms/step - loss: 0.0559 - accuracy: 0.9835 - val_loss: 0.1405 - val_accuracy: 0.9625\n",
      "Epoch 26/100\n",
      "213/213 [==============================] - 6s 26ms/step - loss: 0.0520 - accuracy: 0.9852 - val_loss: 0.1365 - val_accuracy: 0.9659\n",
      "Epoch 27/100\n",
      "213/213 [==============================] - 6s 26ms/step - loss: 0.0458 - accuracy: 0.9870 - val_loss: 0.1363 - val_accuracy: 0.9678\n",
      "Epoch 28/100\n",
      "213/213 [==============================] - 6s 26ms/step - loss: 0.0402 - accuracy: 0.9889 - val_loss: 0.1417 - val_accuracy: 0.9665\n",
      "Epoch 29/100\n",
      "213/213 [==============================] - 6s 26ms/step - loss: 0.0434 - accuracy: 0.9872 - val_loss: 0.1524 - val_accuracy: 0.9635\n",
      "Epoch 30/100\n",
      "213/213 [==============================] - 6s 26ms/step - loss: 0.0388 - accuracy: 0.9889 - val_loss: 0.1721 - val_accuracy: 0.9597\n",
      "Epoch 31/100\n",
      "213/213 [==============================] - 6s 26ms/step - loss: 0.0394 - accuracy: 0.9884 - val_loss: 0.1455 - val_accuracy: 0.9671\n",
      "Epoch 32/100\n",
      "213/213 [==============================] - 6s 26ms/step - loss: 0.0428 - accuracy: 0.9871 - val_loss: 0.1542 - val_accuracy: 0.9653\n",
      "Epoch 33/100\n",
      "213/213 [==============================] - 6s 26ms/step - loss: 0.0313 - accuracy: 0.9914 - val_loss: 0.1549 - val_accuracy: 0.9640\n",
      "Epoch 34/100\n",
      "213/213 [==============================] - 6s 26ms/step - loss: 0.0310 - accuracy: 0.9906 - val_loss: 0.1418 - val_accuracy: 0.9663\n",
      "Epoch 35/100\n",
      "213/213 [==============================] - 6s 26ms/step - loss: 0.0333 - accuracy: 0.9900 - val_loss: 0.1471 - val_accuracy: 0.9664\n",
      "Epoch 36/100\n",
      "213/213 [==============================] - 6s 26ms/step - loss: 0.0354 - accuracy: 0.9895 - val_loss: 0.1474 - val_accuracy: 0.9654\n",
      "Epoch 37/100\n",
      "213/213 [==============================] - 6s 26ms/step - loss: 0.0309 - accuracy: 0.9911 - val_loss: 0.1519 - val_accuracy: 0.9642\n",
      "Epoch 38/100\n",
      "213/213 [==============================] - 6s 26ms/step - loss: 0.0325 - accuracy: 0.9908 - val_loss: 0.1475 - val_accuracy: 0.9668\n",
      "Epoch 39/100\n",
      "213/213 [==============================] - 6s 26ms/step - loss: 0.0268 - accuracy: 0.9921 - val_loss: 0.1472 - val_accuracy: 0.9669\n",
      "Epoch 40/100\n",
      "213/213 [==============================] - 6s 26ms/step - loss: 0.0261 - accuracy: 0.9928 - val_loss: 0.1548 - val_accuracy: 0.9656\n",
      "Epoch 41/100\n",
      "213/213 [==============================] - 6s 26ms/step - loss: 0.0287 - accuracy: 0.9914 - val_loss: 0.1497 - val_accuracy: 0.9660\n",
      "Epoch 42/100\n",
      "213/213 [==============================] - 6s 26ms/step - loss: 0.0280 - accuracy: 0.9916 - val_loss: 0.1465 - val_accuracy: 0.9677\n",
      "Epoch 43/100\n",
      "213/213 [==============================] - 6s 26ms/step - loss: 0.0241 - accuracy: 0.9930 - val_loss: 0.1418 - val_accuracy: 0.9692\n",
      "Epoch 44/100\n",
      "213/213 [==============================] - 6s 26ms/step - loss: 0.0289 - accuracy: 0.9912 - val_loss: 0.1461 - val_accuracy: 0.9677\n",
      "Epoch 45/100\n",
      "213/213 [==============================] - 6s 26ms/step - loss: 0.0237 - accuracy: 0.9929 - val_loss: 0.1718 - val_accuracy: 0.9612\n",
      "Epoch 46/100\n",
      "213/213 [==============================] - 6s 26ms/step - loss: 0.0246 - accuracy: 0.9926 - val_loss: 0.1428 - val_accuracy: 0.9686\n",
      "Epoch 47/100\n",
      "213/213 [==============================] - 6s 26ms/step - loss: 0.0218 - accuracy: 0.9930 - val_loss: 0.1407 - val_accuracy: 0.9683\n",
      "Epoch 48/100\n",
      "213/213 [==============================] - 5s 26ms/step - loss: 0.0208 - accuracy: 0.9938 - val_loss: 0.1467 - val_accuracy: 0.9686\n",
      "Epoch 49/100\n",
      "213/213 [==============================] - 6s 26ms/step - loss: 0.0232 - accuracy: 0.9930 - val_loss: 0.1598 - val_accuracy: 0.9665\n",
      "Epoch 50/100\n",
      "213/213 [==============================] - 6s 26ms/step - loss: 0.0198 - accuracy: 0.9943 - val_loss: 0.1525 - val_accuracy: 0.9681\n",
      "Epoch 51/100\n",
      "213/213 [==============================] - 6s 26ms/step - loss: 0.0243 - accuracy: 0.9923 - val_loss: 0.1534 - val_accuracy: 0.9668\n",
      "Epoch 52/100\n",
      "213/213 [==============================] - 6s 26ms/step - loss: 0.0188 - accuracy: 0.9945 - val_loss: 0.1499 - val_accuracy: 0.9679\n",
      "Epoch 53/100\n",
      "213/213 [==============================] - 6s 26ms/step - loss: 0.0239 - accuracy: 0.9928 - val_loss: 0.1474 - val_accuracy: 0.9690\n",
      "Epoch 54/100\n",
      "213/213 [==============================] - 6s 26ms/step - loss: 0.0177 - accuracy: 0.9946 - val_loss: 0.1477 - val_accuracy: 0.9699\n",
      "Epoch 55/100\n",
      "213/213 [==============================] - 6s 26ms/step - loss: 0.0178 - accuracy: 0.9947 - val_loss: 0.1560 - val_accuracy: 0.9691\n",
      "Epoch 56/100\n",
      "213/213 [==============================] - 6s 26ms/step - loss: 0.0215 - accuracy: 0.9933 - val_loss: 0.1544 - val_accuracy: 0.9693\n",
      "Epoch 57/100\n",
      "213/213 [==============================] - 6s 26ms/step - loss: 0.0191 - accuracy: 0.9942 - val_loss: 0.1515 - val_accuracy: 0.9697\n",
      "Epoch 58/100\n",
      "213/213 [==============================] - 6s 26ms/step - loss: 0.0158 - accuracy: 0.9951 - val_loss: 0.1562 - val_accuracy: 0.9690\n",
      "Epoch 59/100\n",
      "213/213 [==============================] - 6s 26ms/step - loss: 0.0168 - accuracy: 0.9948 - val_loss: 0.1633 - val_accuracy: 0.9679\n",
      "Epoch 60/100\n",
      "213/213 [==============================] - 5s 26ms/step - loss: 0.0170 - accuracy: 0.9950 - val_loss: 0.1553 - val_accuracy: 0.9700\n",
      "Epoch 61/100\n",
      "213/213 [==============================] - 6s 26ms/step - loss: 0.0124 - accuracy: 0.9964 - val_loss: 0.1480 - val_accuracy: 0.9721\n",
      "Epoch 62/100\n",
      "213/213 [==============================] - 5s 26ms/step - loss: 0.0164 - accuracy: 0.9953 - val_loss: 0.1499 - val_accuracy: 0.9694\n",
      "Epoch 63/100\n",
      "213/213 [==============================] - 5s 26ms/step - loss: 0.0193 - accuracy: 0.9941 - val_loss: 0.1438 - val_accuracy: 0.9708\n",
      "Epoch 64/100\n",
      "213/213 [==============================] - 6s 26ms/step - loss: 0.0129 - accuracy: 0.9961 - val_loss: 0.1476 - val_accuracy: 0.9712\n",
      "Epoch 65/100\n",
      "213/213 [==============================] - 5s 26ms/step - loss: 0.0143 - accuracy: 0.9962 - val_loss: 0.1618 - val_accuracy: 0.9691\n",
      "Epoch 66/100\n",
      "213/213 [==============================] - 5s 26ms/step - loss: 0.0181 - accuracy: 0.9946 - val_loss: 0.1485 - val_accuracy: 0.9705\n",
      "Epoch 67/100\n",
      "213/213 [==============================] - 5s 26ms/step - loss: 0.0132 - accuracy: 0.9964 - val_loss: 0.1861 - val_accuracy: 0.9643\n",
      "Epoch 68/100\n",
      "213/213 [==============================] - 5s 26ms/step - loss: 0.0200 - accuracy: 0.9938 - val_loss: 0.1691 - val_accuracy: 0.9671\n",
      "Epoch 69/100\n",
      "213/213 [==============================] - 6s 26ms/step - loss: 0.0176 - accuracy: 0.9947 - val_loss: 0.1507 - val_accuracy: 0.9715\n",
      "Epoch 70/100\n",
      "213/213 [==============================] - 6s 26ms/step - loss: 0.0123 - accuracy: 0.9962 - val_loss: 0.1549 - val_accuracy: 0.9713\n",
      "Epoch 71/100\n",
      "213/213 [==============================] - 6s 26ms/step - loss: 0.0121 - accuracy: 0.9963 - val_loss: 0.1636 - val_accuracy: 0.9696\n",
      "Epoch 72/100\n",
      "213/213 [==============================] - 6s 26ms/step - loss: 0.0132 - accuracy: 0.9959 - val_loss: 0.1591 - val_accuracy: 0.9682\n",
      "Epoch 73/100\n",
      "213/213 [==============================] - 6s 26ms/step - loss: 0.0173 - accuracy: 0.9947 - val_loss: 0.1690 - val_accuracy: 0.9683\n",
      "Epoch 74/100\n",
      "213/213 [==============================] - 6s 26ms/step - loss: 0.0126 - accuracy: 0.9962 - val_loss: 0.1510 - val_accuracy: 0.9724\n",
      "Epoch 75/100\n",
      "213/213 [==============================] - 6s 26ms/step - loss: 0.0127 - accuracy: 0.9961 - val_loss: 0.1494 - val_accuracy: 0.9718\n",
      "Epoch 76/100\n",
      "213/213 [==============================] - 6s 26ms/step - loss: 0.0137 - accuracy: 0.9960 - val_loss: 0.1562 - val_accuracy: 0.9712\n",
      "Epoch 77/100\n",
      "213/213 [==============================] - 6s 26ms/step - loss: 0.0151 - accuracy: 0.9951 - val_loss: 0.1539 - val_accuracy: 0.9702\n",
      "Epoch 78/100\n",
      "213/213 [==============================] - 6s 26ms/step - loss: 0.0150 - accuracy: 0.9954 - val_loss: 0.1491 - val_accuracy: 0.9715\n",
      "Epoch 79/100\n",
      "213/213 [==============================] - 6s 26ms/step - loss: 0.0117 - accuracy: 0.9965 - val_loss: 0.1435 - val_accuracy: 0.9728\n",
      "Epoch 80/100\n",
      "213/213 [==============================] - 6s 26ms/step - loss: 0.0096 - accuracy: 0.9973 - val_loss: 0.1495 - val_accuracy: 0.9723\n",
      "Epoch 81/100\n",
      "213/213 [==============================] - 6s 26ms/step - loss: 0.0119 - accuracy: 0.9964 - val_loss: 0.1520 - val_accuracy: 0.9720\n",
      "Epoch 82/100\n",
      "213/213 [==============================] - 6s 26ms/step - loss: 0.0132 - accuracy: 0.9962 - val_loss: 0.1464 - val_accuracy: 0.9721\n",
      "Epoch 83/100\n",
      "213/213 [==============================] - 6s 26ms/step - loss: 0.0131 - accuracy: 0.9961 - val_loss: 0.1592 - val_accuracy: 0.9696\n",
      "Epoch 84/100\n",
      "213/213 [==============================] - 6s 26ms/step - loss: 0.0158 - accuracy: 0.9949 - val_loss: 0.1474 - val_accuracy: 0.9718\n",
      "Epoch 85/100\n",
      "213/213 [==============================] - 6s 26ms/step - loss: 0.0110 - accuracy: 0.9968 - val_loss: 0.1515 - val_accuracy: 0.9710\n",
      "Epoch 86/100\n",
      "213/213 [==============================] - 6s 26ms/step - loss: 0.0076 - accuracy: 0.9978 - val_loss: 0.1521 - val_accuracy: 0.9720\n",
      "Epoch 87/100\n",
      "213/213 [==============================] - 5s 26ms/step - loss: 0.0177 - accuracy: 0.9946 - val_loss: 0.1577 - val_accuracy: 0.9699\n",
      "Epoch 88/100\n",
      "213/213 [==============================] - 5s 26ms/step - loss: 0.0122 - accuracy: 0.9965 - val_loss: 0.1598 - val_accuracy: 0.9720\n",
      "Epoch 89/100\n",
      "213/213 [==============================] - 6s 26ms/step - loss: 0.0112 - accuracy: 0.9966 - val_loss: 0.1546 - val_accuracy: 0.9705\n",
      "Epoch 90/100\n",
      "213/213 [==============================] - 6s 26ms/step - loss: 0.0102 - accuracy: 0.9970 - val_loss: 0.1534 - val_accuracy: 0.9724\n",
      "Epoch 91/100\n",
      "213/213 [==============================] - 6s 26ms/step - loss: 0.0113 - accuracy: 0.9967 - val_loss: 0.1554 - val_accuracy: 0.9711\n",
      "Epoch 92/100\n",
      "213/213 [==============================] - 6s 26ms/step - loss: 0.0108 - accuracy: 0.9965 - val_loss: 0.1687 - val_accuracy: 0.9695\n",
      "Epoch 93/100\n",
      "213/213 [==============================] - 6s 26ms/step - loss: 0.0112 - accuracy: 0.9965 - val_loss: 0.1613 - val_accuracy: 0.9718\n",
      "Epoch 94/100\n",
      "213/213 [==============================] - 6s 26ms/step - loss: 0.0117 - accuracy: 0.9963 - val_loss: 0.1504 - val_accuracy: 0.9729\n",
      "Epoch 95/100\n",
      "213/213 [==============================] - 5s 26ms/step - loss: 0.0107 - accuracy: 0.9966 - val_loss: 0.1693 - val_accuracy: 0.9696\n",
      "Epoch 96/100\n",
      "213/213 [==============================] - 6s 26ms/step - loss: 0.0140 - accuracy: 0.9956 - val_loss: 0.1593 - val_accuracy: 0.9718\n",
      "Epoch 97/100\n",
      "213/213 [==============================] - 6s 26ms/step - loss: 0.0103 - accuracy: 0.9969 - val_loss: 0.1675 - val_accuracy: 0.9696\n",
      "Epoch 98/100\n",
      "213/213 [==============================] - 6s 26ms/step - loss: 0.0128 - accuracy: 0.9963 - val_loss: 0.1567 - val_accuracy: 0.9731\n",
      "Epoch 99/100\n",
      "213/213 [==============================] - 6s 26ms/step - loss: 0.0127 - accuracy: 0.9965 - val_loss: 0.1549 - val_accuracy: 0.9706\n",
      "Epoch 100/100\n",
      "213/213 [==============================] - 6s 26ms/step - loss: 0.0116 - accuracy: 0.9966 - val_loss: 0.1735 - val_accuracy: 0.9690\n"
     ]
    },
    {
     "data": {
      "text/plain": [
       "<keras.src.callbacks.History at 0x7f02c4678490>"
      ]
     },
     "execution_count": 21,
     "metadata": {},
     "output_type": "execute_result"
    }
   ],
   "source": [
    "model.fit(train_dataset, epochs=epochs, validation_data=validation_dataset)"
   ]
  },
  {
   "cell_type": "code",
   "execution_count": 22,
   "id": "2fda7219-d7f3-446d-988b-4b9bc652c3dc",
   "metadata": {},
   "outputs": [],
   "source": [
    "# import cv2\n",
    "\n",
    "# def decode_prediction(path):\n",
    "#     test_image = cv2.imread(path)\n",
    "#     test_image = test_image.astype(np.float32) / 255.0\n",
    "#     test_image = cv2.resize(test_image, dsize=(256, 65))\n",
    "#     test_image = cv2.transpose(test_image)\n",
    "#     test_image = cv2.cvtColor(test_image, cv2.COLOR_RGB2GRAY)\n",
    "#     resized_image = np.expand_dims(test_image, axis=0)\n",
    "    \n",
    "#     context_test2=[[0]*10]\n",
    "#     context_test2[0][0]=char_to_num('G')\n",
    "#     context_test2=np.array(context_test2)\n",
    "#     sequence=[]\n",
    "#     for i in range(9):\n",
    "#         char_distribution = model.predict([resized_image, context_test2])\n",
    "#         char = np.argmax(char_distribution[0][i])\n",
    "#         sequence.append(char)\n",
    "#         context_test2[0][i+1]=char\n",
    "    \n",
    "#     plate = []\n",
    "#     for i in context_test2:\n",
    "#         plate.append(num_to_char(i))\n",
    "    \n",
    "#     tensor = plate[0]\n",
    "#     numpy_array = tensor.numpy()\n",
    "#     python_list = numpy_array.tolist()\n",
    "#     string_list = [item.decode('utf-8') for item in python_list]\n",
    "#     string_list = string_list[1:-1]\n",
    "#     result_string = ''.join(string_list)\n",
    "#     return result_string\n",
    "\n",
    "# print(decode_prediction('fixed_data/train/11Z25526_7111.JPG'))"
   ]
  },
  {
   "cell_type": "code",
   "execution_count": 23,
   "id": "263fbebc-28f7-4bde-b5f5-42e29b4aea2e",
   "metadata": {},
   "outputs": [
    {
     "name": "stderr",
     "output_type": "stream",
     "text": [
      "/home/syydmr/miniconda3/envs/tf15/lib/python3.11/site-packages/keras/src/engine/training.py:3103: UserWarning: You are saving your model as an HDF5 file via `model.save()`. This file format is considered legacy. We recommend using instead the native Keras format, e.g. `model.save('my_model.keras')`.\n",
      "  saving_api.save_model(\n"
     ]
    }
   ],
   "source": [
    "model.save('model_best.keras')\n",
    "model.save('model_best.h5')"
   ]
  },
  {
   "cell_type": "code",
   "execution_count": 34,
   "id": "216405aa-1d1f-46d6-b153-c979c2d1cf44",
   "metadata": {},
   "outputs": [
    {
     "name": "stdout",
     "output_type": "stream",
     "text": [
      "1/1 [==============================] - 0s 14ms/step\n"
     ]
    }
   ],
   "source": [
    "import cv2\n",
    "path = '38366815_879167.JPG'\n",
    "test_image = cv2.imread(path)\n",
    "test_image = test_image.astype(np.float32) / 255.0\n",
    "test_image = cv2.resize(test_image, dsize=(256, 65))\n",
    "test_image = cv2.transpose(test_image)\n",
    "test_image = cv2.cvtColor(test_image, cv2.COLOR_RGB2GRAY)\n",
    "resized_image = np.expand_dims(test_image, axis=0)\n",
    "output = model.predict(resized_image)\n",
    "output = output.argmax(axis=-1)[0]\n",
    "tensor_list = [num_to_char(item) for item in output]\n",
    "string_list = [tensor.numpy().decode('utf-8') for tensor in tensor_list]\n",
    "resulting_string = ''.join(string_list)"
   ]
  },
  {
   "cell_type": "code",
   "execution_count": 35,
   "id": "3b5bc61f-9529-42d6-b15f-7ddb122719fe",
   "metadata": {},
   "outputs": [
    {
     "data": {
      "text/plain": [
       "'36Z66662'"
      ]
     },
     "execution_count": 35,
     "metadata": {},
     "output_type": "execute_result"
    }
   ],
   "source": [
    "resulting_string"
   ]
  },
  {
   "cell_type": "code",
   "execution_count": null,
   "id": "e244ea5f-2c1c-4b49-b38d-8dd6619ee5d5",
   "metadata": {},
   "outputs": [],
   "source": []
  }
 ],
 "metadata": {
  "kernelspec": {
   "display_name": "Python 3 (ipykernel)",
   "language": "python",
   "name": "python3"
  },
  "language_info": {
   "codemirror_mode": {
    "name": "ipython",
    "version": 3
   },
   "file_extension": ".py",
   "mimetype": "text/x-python",
   "name": "python",
   "nbconvert_exporter": "python",
   "pygments_lexer": "ipython3",
   "version": "3.11.5"
  }
 },
 "nbformat": 4,
 "nbformat_minor": 5
}
