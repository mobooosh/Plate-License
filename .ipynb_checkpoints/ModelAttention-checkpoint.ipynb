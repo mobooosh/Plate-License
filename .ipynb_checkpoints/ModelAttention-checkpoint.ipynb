{
 "cells": [
  {
   "cell_type": "code",
   "execution_count": 1,
   "id": "24050dfb-e631-49e0-8594-fb0869de289a",
   "metadata": {},
   "outputs": [],
   "source": [
    "import os\n",
    "os.environ['TF_CPP_MIN_LOG_LEVEL'] = '15'"
   ]
  },
  {
   "cell_type": "code",
   "execution_count": 2,
   "id": "e52432a9-5251-4a31-b93a-ea408b412c9a",
   "metadata": {
    "scrolled": true
   },
   "outputs": [],
   "source": [
    "import tensorflow as tf"
   ]
  },
  {
   "cell_type": "code",
   "execution_count": 3,
   "id": "d8f2ae9f-7bfd-4f5b-9ee1-d649b896653f",
   "metadata": {},
   "outputs": [
    {
     "data": {
      "text/plain": [
       "'2.15.1'"
      ]
     },
     "execution_count": 3,
     "metadata": {},
     "output_type": "execute_result"
    }
   ],
   "source": [
    "tf.__version__"
   ]
  },
  {
   "cell_type": "code",
   "execution_count": 4,
   "id": "2eb94722-6a8c-4ee9-aa03-5ae9f8c9f6af",
   "metadata": {},
   "outputs": [
    {
     "data": {
      "text/plain": [
       "[PhysicalDevice(name='/physical_device:CPU:0', device_type='CPU'),\n",
       " PhysicalDevice(name='/physical_device:GPU:0', device_type='GPU')]"
      ]
     },
     "execution_count": 4,
     "metadata": {},
     "output_type": "execute_result"
    }
   ],
   "source": [
    "tf.config.experimental.list_physical_devices()"
   ]
  },
  {
   "cell_type": "code",
   "execution_count": 5,
   "id": "2a442b64-feea-4aac-926c-9fd50d1a0546",
   "metadata": {},
   "outputs": [
    {
     "name": "stdout",
     "output_type": "stream",
     "text": [
      "[PhysicalDevice(name='/physical_device:GPU:0', device_type='GPU')]\n"
     ]
    }
   ],
   "source": [
    "print(tf.config.list_physical_devices('GPU'))"
   ]
  },
  {
   "cell_type": "code",
   "execution_count": 6,
   "id": "58536fcc-261d-4f25-a6ca-abd1a4c98e02",
   "metadata": {},
   "outputs": [],
   "source": [
    "device = tf.config.list_physical_devices('GPU')[0]\n",
    "tf.config.experimental.set_memory_growth(device, True)"
   ]
  },
  {
   "cell_type": "code",
   "execution_count": 7,
   "id": "44dac6e2-5b91-4b25-9bc1-f7697af7b609",
   "metadata": {},
   "outputs": [],
   "source": [
    "from tensorflow import keras\n",
    "import numpy as np\n",
    "import matplotlib.pyplot as plt\n",
    "from keras.layers import Lambda, GRU, GlobalAveragePooling1D, Concatenate, Reshape, Conv2D, MaxPooling2D, Dropout, Dense, Flatten, LSTM, Input, BatchNormalization, GlobalAveragePooling2D\n",
    "from keras.layers import Embedding\n",
    "import os\n",
    "from keras import layers"
   ]
  },
  {
   "cell_type": "code",
   "execution_count": 8,
   "id": "354525d0-856b-49e4-97cd-e512d2569bf3",
   "metadata": {},
   "outputs": [],
   "source": [
    "train_dir = \"mergedData\""
   ]
  },
  {
   "cell_type": "code",
   "execution_count": 9,
   "id": "4d8897b5-dae2-4d7a-83a5-a8c9c500ea78",
   "metadata": {},
   "outputs": [],
   "source": [
    "path = os.listdir(train_dir)\n",
    "lbl = []\n",
    "for e in path:\n",
    "    lbl.append(e.split('_')[0])"
   ]
  },
  {
   "cell_type": "code",
   "execution_count": 10,
   "id": "edfd7c5c-25e9-447e-a0f7-d254b7c56208",
   "metadata": {},
   "outputs": [],
   "source": [
    "characters = set(char for label in lbl for char in label)\n",
    "characters.add('G')\n",
    "characters.add('E')\n",
    "\n",
    "characters = sorted(list(characters))\n",
    "\n",
    "\n",
    "char_to_num = layers.StringLookup(\n",
    "    vocabulary=list(characters), mask_token=None\n",
    ")\n",
    "num_to_char = layers.StringLookup(\n",
    "    vocabulary=char_to_num.get_vocabulary(), mask_token=None, invert=True\n",
    ")"
   ]
  },
  {
   "cell_type": "code",
   "execution_count": 11,
   "id": "994d8952-8349-4664-a7a2-62f81049f065",
   "metadata": {},
   "outputs": [],
   "source": [
    "dict_ = char_to_num.get_vocabulary()"
   ]
  },
  {
   "cell_type": "code",
   "execution_count": 12,
   "id": "1e0a17aa-96b7-4331-acbd-5c53af5716eb",
   "metadata": {},
   "outputs": [],
   "source": [
    "image_paths = []\n",
    "tokenized_lbls = []\n",
    "for i in path:\n",
    "    image_paths.append(os.path.join(train_dir, i))\n",
    "    temp = []\n",
    "    for char in i.split('_')[0]:\n",
    "        temp.append(int(char_to_num(char)))\n",
    "    tokenized_lbls.append([int(char_to_num('G'))] + temp + [int(char_to_num('E'))])"
   ]
  },
  {
   "cell_type": "code",
   "execution_count": 13,
   "id": "5b58123f-e00d-4f40-989d-33f8b1fb3a35",
   "metadata": {},
   "outputs": [],
   "source": [
    "tf.config.optimizer.set_jit(True)\n",
    "AUTOTUNE = tf.data.experimental.AUTOTUNE\n",
    "desired_height = 65\n",
    "desired_width = 256\n",
    "\n",
    "def normalization(image):\n",
    "    image = tf.image.convert_image_dtype(image, tf.float32)\n",
    "    return image\n",
    "\n",
    "def load_image(path):\n",
    "    image = tf.io.read_file(path)\n",
    "    image = tf.image.decode_jpeg(image, channels=1)\n",
    "    image = normalization(image)    \n",
    "    image = tf.image.resize(image, [desired_height, desired_width])\n",
    "    image = tf.transpose(image, perm=[1, 0, 2])\n",
    "    return image\n",
    "\n",
    "# def data_augmentation(image):\n",
    "#     image = tf.image.adjust_contrast(image, 0.4)\n",
    "#     image = tf.image.adjust_brightness(image, 0.3)\n",
    "#     image = tf.image.adjust_saturation(image, 0.3)\n",
    "#     return image\n",
    "\n",
    "\n",
    "\n",
    "\n",
    "def load_image_label(path, label):\n",
    "    image = load_image(path)\n",
    "    # image = data_augmentation(image)\n",
    "    label = tf.cast(label, tf.float32)\n",
    "    \n",
    "    y = label[1:]\n",
    "    # 11B12317E\n",
    "    target = label[:-1]\n",
    "    # G11B12317\n",
    "    return (image, target), y\n",
    "    \n",
    "SHUFFLE_BUFFER_SIZE = 256\n",
    "BATCH_SIZE = 32"
   ]
  },
  {
   "cell_type": "code",
   "execution_count": 15,
   "id": "a9aef425-c201-49f5-b2ce-d7a6b163e902",
   "metadata": {},
   "outputs": [
    {
     "name": "stdout",
     "output_type": "stream",
     "text": [
      "Dataset size:  8519\n",
      "train size:  6815\n"
     ]
    }
   ],
   "source": [
    "dataset = tf.data.Dataset.from_tensor_slices((image_paths, tokenized_lbls))\n",
    "\n",
    "\n",
    "validation_split = 0.2\n",
    "DATASET_SIZE = len(list(dataset))\n",
    "print(\"Dataset size: \", DATASET_SIZE)\n",
    "train_size = int((1-validation_split) * DATASET_SIZE)\n",
    "print(\"train size: \", train_size)\n",
    "train_dataset = dataset.take(train_size)\n",
    "validation_dataset = dataset.skip(train_size)\n",
    "\n",
    "\n",
    "\n",
    "dataset = dataset.map(load_image_label, num_parallel_calls=AUTOTUNE)\n",
    "dataset = dataset.shuffle(SHUFFLE_BUFFER_SIZE)\n",
    "dataset = dataset.batch(BATCH_SIZE, num_parallel_calls=AUTOTUNE)\n",
    "dataset = dataset.prefetch(AUTOTUNE)\n",
    "\n",
    "\n",
    "\n",
    "train_dataset = train_dataset.map(load_image_label, num_parallel_calls=AUTOTUNE)\n",
    "train_dataset = train_dataset.shuffle(SHUFFLE_BUFFER_SIZE)\n",
    "train_dataset = train_dataset.batch(BATCH_SIZE, num_parallel_calls=AUTOTUNE)\n",
    "train_dataset = train_dataset.prefetch(AUTOTUNE)\n",
    "\n",
    "\n",
    "\n",
    "validation_dataset = validation_dataset.map(load_image_label, num_parallel_calls=AUTOTUNE)\n",
    "validation_dataset = validation_dataset.batch(BATCH_SIZE, num_parallel_calls=AUTOTUNE)\n",
    "validation_dataset = validation_dataset.prefetch(AUTOTUNE)\n"
   ]
  },
  {
   "cell_type": "code",
   "execution_count": 16,
   "id": "f4c5deca-985d-473c-a1bf-0267b63f68d0",
   "metadata": {},
   "outputs": [
    {
     "name": "stdout",
     "output_type": "stream",
     "text": [
      "tf.Tensor([17.  9.  2. 20.  8. 10.  6.  5.  7.], shape=(9,), dtype=float32)\n",
      "tf.Tensor([ 9.  2. 20.  8. 10.  6.  5.  7. 15.], shape=(9,), dtype=float32)\n"
     ]
    },
    {
     "data": {
      "image/png": "[encoded data removed]",
      "text/plain": [
       "<Figure size 640x480 with 1 Axes>"
      ]
     },
     "metadata": {},
     "output_type": "display_data"
    }
   ],
   "source": [
    "for (source, target), y in dataset.take(1):\n",
    "    source = source[0]\n",
    "    target = target[0]\n",
    "    y = y[0]\n",
    "    plt.imshow((source))\n",
    "    print(target)\n",
    "    print(y)"
   ]
  },
  {
   "cell_type": "code",
   "execution_count": 34,
   "id": "99cd457a-a96c-42cb-9083-a700d85996ef",
   "metadata": {},
   "outputs": [],
   "source": [
    "from keras.models import Model\n",
    "new_shape = (desired_width // 16, (desired_height // 16) * 256)\n",
    "nclasses = len(char_to_num.get_vocabulary())\n",
    "class BahdanauAttention(tf.keras.layers.Layer):\n",
    "    def __init__(self, units):\n",
    "        super(BahdanauAttention, self).__init__()\n",
    "        self.W1 = layers.Dense(units)\n",
    "        self.W2 = layers.Dense(units)\n",
    "        self.V = layers.Dense(1)\n",
    "\n",
    "    def call(self, query, values):\n",
    "        # query: hidden state of the decoder (shape: batch_size, hidden_size)\n",
    "        # values: hidden states of the encoder (shape: batch_size, seq_len, hidden_size)\n",
    "\n",
    "        query_with_time_axis = tf.expand_dims(query, 1)\n",
    "        score = self.V(tf.nn.tanh(self.W1(query_with_time_axis) + self.W2(values)))\n",
    "        attention_weights = tf.nn.softmax(score, axis=1)\n",
    "        context_vector = attention_weights * values\n",
    "        context_vector = tf.reduce_sum(context_vector, axis=1)\n",
    "        return context_vector, attention_weights\n"
   ]
  },
  {
   "cell_type": "code",
   "execution_count": 35,
   "id": "afb9e123-d67f-44fb-b0e8-162807a478c8",
   "metadata": {},
   "outputs": [],
   "source": [
    "# Define the encoder model\n",
    "encoder_input = Input(shape=(None, desired_height, 1))\n",
    "conv2d1 = layers.Conv2D(32, (3, 3), activation=\"relu\", padding=\"same\")(encoder_input)\n",
    "pool1 = layers.MaxPooling2D((2, 2))(conv2d1)\n",
    "\n",
    "conv2d2 = layers.Conv2D(64, (3, 3), activation=\"relu\", padding=\"same\")(pool1)\n",
    "pool2 = layers.MaxPooling2D((2, 2))(conv2d2)\n",
    "\n",
    "conv2d3 = layers.Conv2D(128, (3, 3), activation=\"relu\", padding=\"same\")(pool2)\n",
    "pool3 = layers.MaxPooling2D((2, 2))(conv2d3)\n",
    "\n",
    "conv2d4 = layers.Conv2D(256, (3, 3), activation=\"relu\", padding=\"same\")(pool3)\n",
    "pool4 = layers.MaxPooling2D((2, 2))(conv2d4)\n",
    "\n",
    "reshape = layers.Reshape(target_shape=(desired_width // 16, (desired_height // 16) * 256))(pool4)\n",
    "dense_1 = layers.Dense(128, activation=\"relu\")(reshape)\n",
    "encoder_lstm = LSTM(64, return_sequences=True, return_state=True)\n",
    "encoder_output, state_h, state_c = encoder_lstm(dense_1)\n",
    "\n",
    "encoder_states = [state_h, state_c]"
   ]
  },
  {
   "cell_type": "code",
   "execution_count": 36,
   "id": "0bf27b2d-34c7-45aa-ae48-8e3598c3086d",
   "metadata": {},
   "outputs": [
    {
     "name": "stdout",
     "output_type": "stream",
     "text": [
      "Model: \"model_5\"\n",
      "__________________________________________________________________________________________________\n",
      " Layer (type)                Output Shape                 Param #   Connected to                  \n",
      "==================================================================================================\n",
      " input_10 (InputLayer)       [(None, None, 65, 1)]        0         []                            \n",
      "                                                                                                  \n",
      " conv2d_16 (Conv2D)          (None, None, 65, 32)         320       ['input_10[0][0]']            \n",
      "                                                                                                  \n",
      " max_pooling2d_16 (MaxPooli  (None, None, 32, 32)         0         ['conv2d_16[0][0]']           \n",
      " ng2D)                                                                                            \n",
      "                                                                                                  \n",
      " conv2d_17 (Conv2D)          (None, None, 32, 64)         18496     ['max_pooling2d_16[0][0]']    \n",
      "                                                                                                  \n",
      " max_pooling2d_17 (MaxPooli  (None, None, 16, 64)         0         ['conv2d_17[0][0]']           \n",
      " ng2D)                                                                                            \n",
      "                                                                                                  \n",
      " conv2d_18 (Conv2D)          (None, None, 16, 128)        73856     ['max_pooling2d_17[0][0]']    \n",
      "                                                                                                  \n",
      " max_pooling2d_18 (MaxPooli  (None, None, 8, 128)         0         ['conv2d_18[0][0]']           \n",
      " ng2D)                                                                                            \n",
      "                                                                                                  \n",
      " conv2d_19 (Conv2D)          (None, None, 8, 256)         295168    ['max_pooling2d_18[0][0]']    \n",
      "                                                                                                  \n",
      " max_pooling2d_19 (MaxPooli  (None, None, 4, 256)         0         ['conv2d_19[0][0]']           \n",
      " ng2D)                                                                                            \n",
      "                                                                                                  \n",
      " reshape_4 (Reshape)         (None, 16, 1024)             0         ['max_pooling2d_19[0][0]']    \n",
      "                                                                                                  \n",
      " input_11 (InputLayer)       [(None, None)]               0         []                            \n",
      "                                                                                                  \n",
      " dense_24 (Dense)            (None, 16, 128)              131200    ['reshape_4[0][0]']           \n",
      "                                                                                                  \n",
      " embedding_2 (Embedding)     (None, None, 128)            3968      ['input_11[0][0]']            \n",
      "                                                                                                  \n",
      " lstm_9 (LSTM)               [(None, 16, 64),             49408     ['dense_24[0][0]']            \n",
      "                              (None, 64),                                                         \n",
      "                              (None, 64)]                                                         \n",
      "                                                                                                  \n",
      " lstm_10 (LSTM)              [(None, None, 64),           49408     ['embedding_2[0][0]',         \n",
      "                              (None, 64),                            'lstm_9[0][1]',              \n",
      "                              (None, 64)]                            'lstm_9[0][2]']              \n",
      "                                                                                                  \n",
      " bahdanau_attention_5 (Bahd  ((None, 64),                 8385      ['lstm_9[0][1]',              \n",
      " anauAttention)               (None, 16, 1))                         'lstm_9[0][0]']              \n",
      "                                                                                                  \n",
      " tf.compat.v1.shape_5 (TFOp  (3,)                         0         ['lstm_10[0][0]']             \n",
      " Lambda)                                                                                          \n",
      "                                                                                                  \n",
      " tf.expand_dims_5 (TFOpLamb  (None, 1, 64)                0         ['bahdanau_attention_5[0][0]']\n",
      " da)                                                                                              \n",
      "                                                                                                  \n",
      " tf.__operators__.getitem_5  ()                           0         ['tf.compat.v1.shape_5[0][0]']\n",
      "  (SlicingOpLambda)                                                                               \n",
      "                                                                                                  \n",
      " tf.tile_5 (TFOpLambda)      (None, None, 64)             0         ['tf.expand_dims_5[0][0]',    \n",
      "                                                                     'tf.__operators__.getitem_5[0\n",
      "                                                                    ][0]']                        \n",
      "                                                                                                  \n",
      " tf.concat_5 (TFOpLambda)    (None, None, 128)            0         ['lstm_10[0][0]',             \n",
      "                                                                     'tf.tile_5[0][0]']           \n",
      "                                                                                                  \n",
      " dense_28 (Dense)            (None, None, 31)             3999      ['tf.concat_5[0][0]']         \n",
      "                                                                                                  \n",
      "==================================================================================================\n",
      "Total params: 634208 (2.42 MB)\n",
      "Trainable params: 634208 (2.42 MB)\n",
      "Non-trainable params: 0 (0.00 Byte)\n",
      "__________________________________________________________________________________________________\n"
     ]
    }
   ],
   "source": [
    "# Define the decoder model\n",
    "decoder_input = Input(shape=(None, ))\n",
    "embed = Embedding(input_dim=31, output_dim=128)(decoder_input)\n",
    "\n",
    "decoder_lstm = LSTM(64, return_sequences=True, return_state=True)\n",
    "decoder_lstm_output, _, _ = decoder_lstm(embed, initial_state=encoder_states)\n",
    "\n",
    "attention = BahdanauAttention(64)\n",
    "context_vector, attention_weights = attention(state_h, encoder_output)\n",
    "\n",
    "context_vector_expanded = tf.expand_dims(context_vector, 1)\n",
    "context_vector_expanded = tf.tile(context_vector_expanded, [1, tf.shape(decoder_lstm_output)[1], 1])\n",
    "combined_output = tf.concat([decoder_lstm_output, context_vector_expanded], axis=-1)\n",
    "\n",
    "output = Dense(nclasses, activation='softmax')(combined_output)\n",
    "\n",
    "model = Model(inputs=[encoder_input, decoder_input], outputs=output)\n",
    "\n",
    "model.compile(optimizer='adam', loss='categorical_crossentropy', metrics=['accuracy'])\n",
    "model.summary()"
   ]
  },
  {
   "cell_type": "code",
   "execution_count": 37,
   "id": "6bcfbd64-7d39-4770-bec9-22780727a8ea",
   "metadata": {},
   "outputs": [],
   "source": [
    "# from keras.utils import plot_model\n",
    "# plot_model(model, show_dtype=True, show_shapes=True, show_layer_names=True)"
   ]
  },
  {
   "cell_type": "code",
   "execution_count": 38,
   "id": "a0d711de-f7d4-4e96-a2ea-2f44495d4cf1",
   "metadata": {},
   "outputs": [],
   "source": [
    "opt = tf.keras.optimizers.Adam(learning_rate=1e-3)\n",
    "\n",
    "\n",
    "model.compile(\n",
    "    optimizer=opt,\n",
    "    loss='sparse_categorical_crossentropy',\n",
    "    metrics=['accuracy'],\n",
    "\n",
    ")"
   ]
  },
  {
   "cell_type": "code",
   "execution_count": 39,
   "id": "915bd6c4-8590-442f-bfa4-316d930e49c7",
   "metadata": {},
   "outputs": [
    {
     "name": "stdout",
     "output_type": "stream",
     "text": [
      "Epoch 1/75\n"
     ]
    },
    {
     "name": "stderr",
     "output_type": "stream",
     "text": [
      "WARNING: All log messages before absl::InitializeLog() is called are written to STDERR\n",
      "I0000 00:00:1718579241.350032   14837 device_compiler.h:186] Compiled cluster using XLA!  This line is logged at most once for the lifetime of the process.\n",
      "W0000 00:00:1718579244.787472   14838 graph_launch.cc:671] Fallback to op-by-op mode because memset node breaks graph update\n"
     ]
    },
    {
     "name": "stdout",
     "output_type": "stream",
     "text": [
      "213/213 [==============================] - ETA: 0s - loss: 2.2945 - accuracy: 0.2516"
     ]
    },
    {
     "name": "stderr",
     "output_type": "stream",
     "text": [
      "W0000 00:00:1718579262.259212   14828 graph_launch.cc:671] Fallback to op-by-op mode because memset node breaks graph update\n"
     ]
    },
    {
     "name": "stdout",
     "output_type": "stream",
     "text": [
      "213/213 [==============================] - 26s 52ms/step - loss: 2.2945 - accuracy: 0.2516 - val_loss: 2.0171 - val_accuracy: 0.2954\n",
      "Epoch 2/75\n",
      "212/213 [============================>.] - ETA: 0s - loss: 1.9316 - accuracy: 0.3078"
     ]
    },
    {
     "name": "stderr",
     "output_type": "stream",
     "text": [
      "W0000 00:00:1718579271.875776   14834 graph_launch.cc:671] Fallback to op-by-op mode because memset node breaks graph update\n"
     ]
    },
    {
     "name": "stdout",
     "output_type": "stream",
     "text": [
      "213/213 [==============================] - ETA: 0s - loss: 1.9314 - accuracy: 0.3079"
     ]
    },
    {
     "name": "stderr",
     "output_type": "stream",
     "text": [
      "W0000 00:00:1718579279.939152   14837 graph_launch.cc:671] Fallback to op-by-op mode because memset node breaks graph update\n"
     ]
    },
    {
     "name": "stdout",
     "output_type": "stream",
     "text": [
      "213/213 [==============================] - 17s 79ms/step - loss: 1.9314 - accuracy: 0.3079 - val_loss: 1.8905 - val_accuracy: 0.3121\n",
      "Epoch 3/75\n",
      "213/213 [==============================] - 6s 27ms/step - loss: 1.8623 - accuracy: 0.3213 - val_loss: 1.8413 - val_accuracy: 0.3159\n",
      "Epoch 4/75\n",
      "213/213 [==============================] - 6s 28ms/step - loss: 1.8160 - accuracy: 0.3294 - val_loss: 1.7901 - val_accuracy: 0.3290\n",
      "Epoch 5/75\n",
      "213/213 [==============================] - 6s 27ms/step - loss: 1.7445 - accuracy: 0.3580 - val_loss: 1.6904 - val_accuracy: 0.3760\n",
      "Epoch 6/75\n",
      "213/213 [==============================] - 6s 27ms/step - loss: 1.6046 - accuracy: 0.4240 - val_loss: 1.5260 - val_accuracy: 0.4604\n",
      "Epoch 7/75\n",
      "213/213 [==============================] - 6s 27ms/step - loss: 1.3885 - accuracy: 0.5112 - val_loss: 1.3055 - val_accuracy: 0.5365\n",
      "Epoch 8/75\n",
      "213/213 [==============================] - 6s 27ms/step - loss: 1.1906 - accuracy: 0.5763 - val_loss: 1.1306 - val_accuracy: 0.5929\n",
      "Epoch 9/75\n",
      "213/213 [==============================] - 6s 27ms/step - loss: 1.0351 - accuracy: 0.6290 - val_loss: 0.9994 - val_accuracy: 0.6423\n",
      "Epoch 10/75\n",
      "213/213 [==============================] - 6s 27ms/step - loss: 0.8940 - accuracy: 0.6852 - val_loss: 0.8910 - val_accuracy: 0.6832\n",
      "Epoch 11/75\n",
      "213/213 [==============================] - 6s 27ms/step - loss: 0.7726 - accuracy: 0.7306 - val_loss: 0.7642 - val_accuracy: 0.7317\n",
      "Epoch 12/75\n",
      "213/213 [==============================] - 6s 27ms/step - loss: 0.6550 - accuracy: 0.7752 - val_loss: 0.6709 - val_accuracy: 0.7653\n",
      "Epoch 13/75\n",
      "213/213 [==============================] - 6s 27ms/step - loss: 0.5573 - accuracy: 0.8104 - val_loss: 0.6077 - val_accuracy: 0.7868\n",
      "Epoch 14/75\n",
      "213/213 [==============================] - 6s 27ms/step - loss: 0.4815 - accuracy: 0.8385 - val_loss: 0.5259 - val_accuracy: 0.8202\n",
      "Epoch 15/75\n",
      "213/213 [==============================] - 6s 27ms/step - loss: 0.4180 - accuracy: 0.8628 - val_loss: 0.5078 - val_accuracy: 0.8238\n",
      "Epoch 16/75\n",
      "213/213 [==============================] - 6s 27ms/step - loss: 0.3630 - accuracy: 0.8835 - val_loss: 0.4641 - val_accuracy: 0.8406\n",
      "Epoch 17/75\n",
      "213/213 [==============================] - 6s 27ms/step - loss: 0.3135 - accuracy: 0.9042 - val_loss: 0.4146 - val_accuracy: 0.8622\n",
      "Epoch 18/75\n",
      "213/213 [==============================] - 6s 27ms/step - loss: 0.2665 - accuracy: 0.9227 - val_loss: 0.3890 - val_accuracy: 0.8711\n",
      "Epoch 19/75\n",
      "213/213 [==============================] - 6s 28ms/step - loss: 0.2321 - accuracy: 0.9358 - val_loss: 0.3681 - val_accuracy: 0.8817\n",
      "Epoch 20/75\n",
      "213/213 [==============================] - 6s 27ms/step - loss: 0.1963 - accuracy: 0.9495 - val_loss: 0.3503 - val_accuracy: 0.8882\n",
      "Epoch 21/75\n",
      "213/213 [==============================] - 6s 27ms/step - loss: 0.1724 - accuracy: 0.9582 - val_loss: 0.3049 - val_accuracy: 0.9070\n",
      "Epoch 22/75\n",
      "213/213 [==============================] - 6s 27ms/step - loss: 0.1452 - accuracy: 0.9670 - val_loss: 0.3202 - val_accuracy: 0.9012\n",
      "Epoch 23/75\n",
      "213/213 [==============================] - 6s 28ms/step - loss: 0.1261 - accuracy: 0.9727 - val_loss: 0.3007 - val_accuracy: 0.9092\n",
      "Epoch 24/75\n",
      "213/213 [==============================] - 6s 27ms/step - loss: 0.1125 - accuracy: 0.9766 - val_loss: 0.2780 - val_accuracy: 0.9177\n",
      "Epoch 25/75\n",
      "213/213 [==============================] - 6s 27ms/step - loss: 0.1017 - accuracy: 0.9795 - val_loss: 0.2700 - val_accuracy: 0.9216\n",
      "Epoch 26/75\n",
      "213/213 [==============================] - 6s 27ms/step - loss: 0.0888 - accuracy: 0.9829 - val_loss: 0.2607 - val_accuracy: 0.9249\n",
      "Epoch 27/75\n",
      "213/213 [==============================] - 6s 27ms/step - loss: 0.0740 - accuracy: 0.9879 - val_loss: 0.2494 - val_accuracy: 0.9273\n",
      "Epoch 28/75\n",
      "213/213 [==============================] - 6s 27ms/step - loss: 0.0646 - accuracy: 0.9900 - val_loss: 0.2528 - val_accuracy: 0.9287\n",
      "Epoch 29/75\n",
      "213/213 [==============================] - 6s 28ms/step - loss: 0.0610 - accuracy: 0.9898 - val_loss: 0.2531 - val_accuracy: 0.9264\n",
      "Epoch 30/75\n",
      "213/213 [==============================] - 6s 27ms/step - loss: 0.0548 - accuracy: 0.9913 - val_loss: 0.2457 - val_accuracy: 0.9302\n",
      "Epoch 31/75\n",
      "213/213 [==============================] - 6s 28ms/step - loss: 0.0513 - accuracy: 0.9915 - val_loss: 0.2712 - val_accuracy: 0.9271\n",
      "Epoch 32/75\n",
      "213/213 [==============================] - 6s 27ms/step - loss: 0.0569 - accuracy: 0.9887 - val_loss: 0.2474 - val_accuracy: 0.9334\n",
      "Epoch 33/75\n",
      "213/213 [==============================] - 6s 27ms/step - loss: 0.0481 - accuracy: 0.9917 - val_loss: 0.2430 - val_accuracy: 0.9343\n",
      "Epoch 34/75\n",
      "213/213 [==============================] - 6s 27ms/step - loss: 0.0665 - accuracy: 0.9843 - val_loss: 0.2457 - val_accuracy: 0.9326\n",
      "Epoch 35/75\n",
      "213/213 [==============================] - 6s 27ms/step - loss: 0.0433 - accuracy: 0.9925 - val_loss: 0.2181 - val_accuracy: 0.9405\n",
      "Epoch 36/75\n",
      "213/213 [==============================] - 6s 27ms/step - loss: 0.0329 - accuracy: 0.9953 - val_loss: 0.2159 - val_accuracy: 0.9448\n",
      "Epoch 37/75\n",
      "213/213 [==============================] - 6s 27ms/step - loss: 0.0234 - accuracy: 0.9979 - val_loss: 0.2084 - val_accuracy: 0.9478\n",
      "Epoch 38/75\n",
      "213/213 [==============================] - 6s 27ms/step - loss: 0.0193 - accuracy: 0.9988 - val_loss: 0.2117 - val_accuracy: 0.9471\n",
      "Epoch 39/75\n",
      "213/213 [==============================] - 6s 27ms/step - loss: 0.0177 - accuracy: 0.9985 - val_loss: 0.2148 - val_accuracy: 0.9457\n",
      "Epoch 40/75\n",
      "213/213 [==============================] - 6s 27ms/step - loss: 0.0506 - accuracy: 0.9877 - val_loss: 0.3459 - val_accuracy: 0.9071\n",
      "Epoch 41/75\n",
      "213/213 [==============================] - 6s 27ms/step - loss: 0.0656 - accuracy: 0.9817 - val_loss: 0.2078 - val_accuracy: 0.9427\n",
      "Epoch 42/75\n",
      "213/213 [==============================] - 6s 27ms/step - loss: 0.0342 - accuracy: 0.9933 - val_loss: 0.1913 - val_accuracy: 0.9499\n",
      "Epoch 43/75\n",
      "213/213 [==============================] - 6s 27ms/step - loss: 0.0180 - accuracy: 0.9982 - val_loss: 0.1817 - val_accuracy: 0.9540\n",
      "Epoch 44/75\n",
      "213/213 [==============================] - 6s 27ms/step - loss: 0.0104 - accuracy: 0.9997 - val_loss: 0.1809 - val_accuracy: 0.9546\n",
      "Epoch 45/75\n",
      "213/213 [==============================] - 6s 27ms/step - loss: 0.0084 - accuracy: 0.9999 - val_loss: 0.1822 - val_accuracy: 0.9549\n",
      "Epoch 46/75\n",
      "213/213 [==============================] - 6s 27ms/step - loss: 0.0067 - accuracy: 0.9999 - val_loss: 0.1870 - val_accuracy: 0.9540\n",
      "Epoch 47/75\n",
      "213/213 [==============================] - 6s 27ms/step - loss: 0.0057 - accuracy: 0.9999 - val_loss: 0.1887 - val_accuracy: 0.9546\n",
      "Epoch 48/75\n",
      "213/213 [==============================] - 6s 27ms/step - loss: 0.0055 - accuracy: 0.9998 - val_loss: 0.1913 - val_accuracy: 0.9532\n",
      "Epoch 49/75\n",
      "213/213 [==============================] - 6s 27ms/step - loss: 0.0344 - accuracy: 0.9908 - val_loss: 0.3881 - val_accuracy: 0.9010\n",
      "Epoch 50/75\n",
      "213/213 [==============================] - 6s 27ms/step - loss: 0.0990 - accuracy: 0.9699 - val_loss: 0.2135 - val_accuracy: 0.9430\n",
      "Epoch 51/75\n",
      "213/213 [==============================] - 6s 27ms/step - loss: 0.0319 - accuracy: 0.9928 - val_loss: 0.2056 - val_accuracy: 0.9477\n",
      "Epoch 52/75\n",
      "213/213 [==============================] - 6s 27ms/step - loss: 0.0170 - accuracy: 0.9975 - val_loss: 0.1734 - val_accuracy: 0.9572\n",
      "Epoch 53/75\n",
      "213/213 [==============================] - 6s 28ms/step - loss: 0.0086 - accuracy: 0.9995 - val_loss: 0.1653 - val_accuracy: 0.9592\n",
      "Epoch 54/75\n",
      "213/213 [==============================] - 6s 27ms/step - loss: 0.0068 - accuracy: 0.9997 - val_loss: 0.1735 - val_accuracy: 0.9583\n",
      "Epoch 55/75\n",
      "213/213 [==============================] - 6s 27ms/step - loss: 0.0064 - accuracy: 0.9997 - val_loss: 0.1819 - val_accuracy: 0.9563\n",
      "Epoch 56/75\n",
      "213/213 [==============================] - 6s 27ms/step - loss: 0.0083 - accuracy: 0.9992 - val_loss: 0.1942 - val_accuracy: 0.9527\n",
      "Epoch 57/75\n",
      "213/213 [==============================] - 6s 27ms/step - loss: 0.0136 - accuracy: 0.9975 - val_loss: 0.2287 - val_accuracy: 0.9437\n",
      "Epoch 58/75\n",
      "213/213 [==============================] - 6s 27ms/step - loss: 0.0739 - accuracy: 0.9770 - val_loss: 0.2463 - val_accuracy: 0.9384\n",
      "Epoch 59/75\n",
      "213/213 [==============================] - 6s 27ms/step - loss: 0.0357 - accuracy: 0.9905 - val_loss: 0.1808 - val_accuracy: 0.9585\n",
      "Epoch 60/75\n",
      "213/213 [==============================] - 6s 27ms/step - loss: 0.0150 - accuracy: 0.9975 - val_loss: 0.1699 - val_accuracy: 0.9604\n",
      "Epoch 61/75\n",
      "213/213 [==============================] - 6s 27ms/step - loss: 0.0091 - accuracy: 0.9992 - val_loss: 0.1621 - val_accuracy: 0.9628\n",
      "Epoch 62/75\n",
      "213/213 [==============================] - 6s 27ms/step - loss: 0.0056 - accuracy: 0.9997 - val_loss: 0.1618 - val_accuracy: 0.9623\n",
      "Epoch 63/75\n",
      "213/213 [==============================] - 6s 27ms/step - loss: 0.0039 - accuracy: 0.9999 - val_loss: 0.1594 - val_accuracy: 0.9632\n",
      "Epoch 64/75\n",
      "213/213 [==============================] - 6s 27ms/step - loss: 0.0030 - accuracy: 1.0000 - val_loss: 0.1702 - val_accuracy: 0.9592\n",
      "Epoch 65/75\n",
      "213/213 [==============================] - 6s 27ms/step - loss: 0.0028 - accuracy: 1.0000 - val_loss: 0.1609 - val_accuracy: 0.9643\n",
      "Epoch 66/75\n",
      "213/213 [==============================] - 6s 27ms/step - loss: 0.0023 - accuracy: 1.0000 - val_loss: 0.1603 - val_accuracy: 0.9638\n",
      "Epoch 67/75\n",
      "213/213 [==============================] - 6s 27ms/step - loss: 0.0021 - accuracy: 1.0000 - val_loss: 0.1633 - val_accuracy: 0.9637\n",
      "Epoch 68/75\n",
      "213/213 [==============================] - 6s 27ms/step - loss: 0.0021 - accuracy: 1.0000 - val_loss: 0.1658 - val_accuracy: 0.9636\n",
      "Epoch 69/75\n",
      "213/213 [==============================] - 6s 27ms/step - loss: 0.0018 - accuracy: 1.0000 - val_loss: 0.1687 - val_accuracy: 0.9630\n",
      "Epoch 70/75\n",
      "213/213 [==============================] - 6s 27ms/step - loss: 0.0025 - accuracy: 0.9999 - val_loss: 0.1770 - val_accuracy: 0.9620\n",
      "Epoch 71/75\n",
      "213/213 [==============================] - 6s 27ms/step - loss: 0.1157 - accuracy: 0.9693 - val_loss: 0.2556 - val_accuracy: 0.9348\n",
      "Epoch 72/75\n",
      "213/213 [==============================] - 6s 27ms/step - loss: 0.0508 - accuracy: 0.9849 - val_loss: 0.1772 - val_accuracy: 0.9541\n",
      "Epoch 73/75\n",
      "213/213 [==============================] - 6s 27ms/step - loss: 0.0142 - accuracy: 0.9976 - val_loss: 0.1560 - val_accuracy: 0.9639\n",
      "Epoch 74/75\n",
      "213/213 [==============================] - 6s 27ms/step - loss: 0.0065 - accuracy: 0.9996 - val_loss: 0.1471 - val_accuracy: 0.9665\n",
      "Epoch 75/75\n",
      "213/213 [==============================] - 6s 27ms/step - loss: 0.0037 - accuracy: 1.0000 - val_loss: 0.1483 - val_accuracy: 0.9673\n"
     ]
    },
    {
     "data": {
      "text/plain": [
       "<keras.src.callbacks.History at 0x7fd0801b2e10>"
      ]
     },
     "execution_count": 39,
     "metadata": {},
     "output_type": "execute_result"
    }
   ],
   "source": [
    "model.fit(train_dataset, epochs=75, validation_data=validation_dataset)"
   ]
  },
  {
   "cell_type": "code",
   "execution_count": 40,
   "id": "2fda7219-d7f3-446d-988b-4b9bc652c3dc",
   "metadata": {},
   "outputs": [
    {
     "name": "stdout",
     "output_type": "stream",
     "text": [
      "1/1 [==============================] - 2s 2s/step\n",
      "1/1 [==============================] - 0s 14ms/step\n",
      "1/1 [==============================] - 0s 14ms/step\n",
      "1/1 [==============================] - 0s 14ms/step\n",
      "1/1 [==============================] - 0s 14ms/step\n",
      "1/1 [==============================] - 0s 13ms/step\n",
      "1/1 [==============================] - 0s 14ms/step\n",
      "1/1 [==============================] - 0s 14ms/step\n",
      "1/1 [==============================] - 0s 14ms/step\n",
      "75Y66815\n"
     ]
    }
   ],
   "source": [
    "import cv2\n",
    "\n",
    "def decode_prediction(path):\n",
    "    test_image = cv2.imread(path)\n",
    "    test_image = test_image.astype(np.float32) / 255.0\n",
    "    test_image = cv2.resize(test_image, dsize=(256, 65))\n",
    "    test_image = cv2.transpose(test_image)\n",
    "    test_image = cv2.cvtColor(test_image, cv2.COLOR_RGB2GRAY)\n",
    "    resized_image = np.expand_dims(test_image, axis=0)\n",
    "    \n",
    "    context_test2=[[0]*10]\n",
    "    context_test2[0][0]=char_to_num('G')\n",
    "    context_test2=np.array(context_test2)\n",
    "    sequence=[]\n",
    "    for i in range(9):\n",
    "        char_distribution = model.predict([resized_image, context_test2])\n",
    "        char = np.argmax(char_distribution[0][i])\n",
    "        sequence.append(char)\n",
    "        context_test2[0][i+1]=char\n",
    "    \n",
    "    plate = []\n",
    "    for i in context_test2:\n",
    "        plate.append(num_to_char(i))\n",
    "    \n",
    "    tensor = plate[0]\n",
    "    numpy_array = tensor.numpy()\n",
    "    python_list = numpy_array.tolist()\n",
    "    string_list = [item.decode('utf-8') for item in python_list]\n",
    "    string_list = string_list[1:-1]\n",
    "    result_string = ''.join(string_list)\n",
    "    return result_string\n",
    "\n",
    "print(decode_prediction('37566838_9520340.JPG'))"
   ]
  },
  {
   "cell_type": "code",
   "execution_count": 24,
   "id": "263fbebc-28f7-4bde-b5f5-42e29b4aea2e",
   "metadata": {},
   "outputs": [
    {
     "name": "stderr",
     "output_type": "stream",
     "text": [
      "/home/syydmr/miniconda3/envs/tf15/lib/python3.11/site-packages/keras/src/engine/training.py:3103: UserWarning: You are saving your model as an HDF5 file via `model.save()`. This file format is considered legacy. We recommend using instead the native Keras format, e.g. `model.save('my_model.keras')`.\n",
      "  saving_api.save_model(\n"
     ]
    }
   ],
   "source": [
    "model.save('model_best.keras')\n",
    "model.save('model_best.h5')"
   ]
  },
  {
   "cell_type": "code",
   "execution_count": null,
   "id": "216405aa-1d1f-46d6-b153-c979c2d1cf44",
   "metadata": {},
   "outputs": [],
   "source": []
  }
 ],
 "metadata": {
  "kernelspec": {
   "display_name": "Python 3 (ipykernel)",
   "language": "python",
   "name": "python3"
  },
  "language_info": {
   "codemirror_mode": {
    "name": "ipython",
    "version": 3
   },
   "file_extension": ".py",
   "mimetype": "text/x-python",
   "name": "python",
   "nbconvert_exporter": "python",
   "pygments_lexer": "ipython3",
   "version": "3.11.5"
  }
 },
 "nbformat": 4,
 "nbformat_minor": 5
}
