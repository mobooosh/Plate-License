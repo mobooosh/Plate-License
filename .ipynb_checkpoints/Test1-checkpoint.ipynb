{
 "cells": [
  {
   "cell_type": "code",
   "execution_count": 1,
   "id": "24050dfb-e631-49e0-8594-fb0869de289a",
   "metadata": {},
   "outputs": [],
   "source": [
    "import os\n",
    "os.environ['TF_CPP_MIN_LOG_LEVEL'] = '15'"
   ]
  },
  {
   "cell_type": "code",
   "execution_count": 2,
   "id": "2859da19-0c60-4b81-a8b2-dbbbc52b5608",
   "metadata": {},
   "outputs": [
    {
     "data": {
      "text/plain": [
       "'2.15.0'"
      ]
     },
     "execution_count": 2,
     "metadata": {},
     "output_type": "execute_result"
    }
   ],
   "source": [
    "import tensorflow as tf\n",
    "\n",
    "tf.__version__"
   ]
  },
  {
   "cell_type": "code",
   "execution_count": 3,
   "id": "58536fcc-261d-4f25-a6ca-abd1a4c98e02",
   "metadata": {},
   "outputs": [],
   "source": [
    "device = tf.config.list_physical_devices('GPU')[0]\n",
    "tf.config.experimental.set_memory_growth(device, True)"
   ]
  },
  {
   "cell_type": "code",
   "execution_count": 4,
   "id": "44dac6e2-5b91-4b25-9bc1-f7697af7b609",
   "metadata": {},
   "outputs": [],
   "source": [
    "from tensorflow import keras\n",
    "import numpy as np\n",
    "import matplotlib.pyplot as plt\n",
    "from keras.layers import Conv1D, MaxPool1D, Layer, Dense, Activation, Lambda, Concatenate, Reshape, Conv2D, MaxPooling2D, Dropout, Dense, Flatten, LSTM, Input, BatchNormalization, GlobalAveragePooling2D\n",
    "from keras.layers import Embedding\n",
    "from keras.applications import ResNet50\n",
    "from keras.applications.resnet50 import preprocess_input\n",
    "import os\n",
    "from keras import layers"
   ]
  },
  {
   "cell_type": "code",
   "execution_count": 5,
   "id": "354525d0-856b-49e4-97cd-e512d2569bf3",
   "metadata": {},
   "outputs": [],
   "source": [
    "train_dir = \"train\""
   ]
  },
  {
   "cell_type": "code",
   "execution_count": 6,
   "id": "4d8897b5-dae2-4d7a-83a5-a8c9c500ea78",
   "metadata": {},
   "outputs": [],
   "source": [
    "path = os.listdir(train_dir)\n",
    "lbl = []\n",
    "for e in path:\n",
    "    lbl.append(e.split('_')[0])"
   ]
  },
  {
   "cell_type": "code",
   "execution_count": 7,
   "id": "edfd7c5c-25e9-447e-a0f7-d254b7c56208",
   "metadata": {},
   "outputs": [],
   "source": [
    "characters = set(char for label in lbl for char in label)\n",
    "characters.add('G')\n",
    "characters.add('E')\n",
    "\n",
    "characters = sorted(list(characters))\n",
    "\n",
    "\n",
    "char_to_num = layers.StringLookup(\n",
    "    vocabulary=list(characters), mask_token=None\n",
    ")\n",
    "num_to_char = layers.StringLookup(\n",
    "    vocabulary=char_to_num.get_vocabulary(), mask_token=None, invert=True\n",
    ")"
   ]
  },
  {
   "cell_type": "code",
   "execution_count": 8,
   "id": "994d8952-8349-4664-a7a2-62f81049f065",
   "metadata": {},
   "outputs": [],
   "source": [
    "dict_ = char_to_num.get_vocabulary()"
   ]
  },
  {
   "cell_type": "code",
   "execution_count": 9,
   "id": "1e0a17aa-96b7-4331-acbd-5c53af5716eb",
   "metadata": {},
   "outputs": [],
   "source": [
    "image_paths = []\n",
    "tokenized_lbls = []\n",
    "for i in path:\n",
    "    image_paths.append(os.path.join(train_dir, i))\n",
    "    temp = []\n",
    "    for char in i.split('_')[0]:\n",
    "        temp.append(int(char_to_num(char)))\n",
    "    tokenized_lbls.append([int(char_to_num('G'))] + temp + [int(char_to_num('E'))])"
   ]
  },
  {
   "cell_type": "code",
   "execution_count": 10,
   "id": "5b58123f-e00d-4f40-989d-33f8b1fb3a35",
   "metadata": {},
   "outputs": [],
   "source": [
    "tf.config.optimizer.set_jit(True)\n",
    "AUTOTUNE = tf.data.experimental.AUTOTUNE\n",
    "desired_height = 65\n",
    "desired_width = 256\n",
    "\n",
    "def normalization(image):\n",
    "    image = tf.cast(image, tf.float32)\n",
    "    image = preprocess_input(image)\n",
    "    return image\n",
    "\n",
    "def load_image(path):\n",
    "    image = tf.io.read_file(path)\n",
    "    image = tf.image.decode_jpeg(image)\n",
    "    image = normalization(image)    \n",
    "    image = tf.image.resize(image, [desired_height, desired_width])\n",
    "    return image\n",
    "\n",
    "# def data_augmentation(image):\n",
    "#     image = tf.image.adjust_contrast(image, 0.4)\n",
    "#     image = tf.image.adjust_brightness(image, 0.3)\n",
    "#     image = tf.image.adjust_saturation(image, 0.3)\n",
    "#     return image\n",
    "\n",
    "\n",
    "\n",
    "def load_image_label(path, label):\n",
    "    image = load_image(path)\n",
    "    # image = data_augmentation(image)\n",
    "    label = tf.cast(label, tf.float32)\n",
    "    \n",
    "    y = label[1:]\n",
    "    target = label[:-1]\n",
    "    return (image, target), y\n",
    "    \n",
    "SHUFFLE_BUFFER_SIZE = 256\n",
    "BATCH_SIZE = 32"
   ]
  },
  {
   "cell_type": "code",
   "execution_count": 11,
   "id": "a9aef425-c201-49f5-b2ce-d7a6b163e902",
   "metadata": {},
   "outputs": [
    {
     "name": "stdout",
     "output_type": "stream",
     "text": [
      "Dataset size:  3000\n",
      "train size:  2400\n"
     ]
    }
   ],
   "source": [
    "dataset = tf.data.Dataset.from_tensor_slices((image_paths, tokenized_lbls))\n",
    "\n",
    "\n",
    "validation_split = 0.2\n",
    "DATASET_SIZE = len(list(dataset))\n",
    "print(\"Dataset size: \", DATASET_SIZE)\n",
    "train_size = int((1-validation_split) * DATASET_SIZE)\n",
    "print(\"train size: \", train_size)\n",
    "train_dataset = dataset.take(train_size)\n",
    "validation_dataset = dataset.skip(train_size)\n",
    "\n",
    "\n",
    "\n",
    "dataset = dataset.map(load_image_label, num_parallel_calls=AUTOTUNE)\n",
    "dataset = dataset.shuffle(SHUFFLE_BUFFER_SIZE)\n",
    "dataset = dataset.batch(BATCH_SIZE, num_parallel_calls=AUTOTUNE)\n",
    "dataset = dataset.prefetch(AUTOTUNE)\n",
    "\n",
    "validation_dataset = validation_dataset.map(load_image_label, num_parallel_calls=AUTOTUNE)\n",
    "validation_dataset = validation_dataset.batch(BATCH_SIZE, num_parallel_calls=AUTOTUNE)\n",
    "validation_dataset = validation_dataset.prefetch(AUTOTUNE)\n"
   ]
  },
  {
   "cell_type": "code",
   "execution_count": 12,
   "id": "f4c5deca-985d-473c-a1bf-0267b63f68d0",
   "metadata": {},
   "outputs": [
    {
     "name": "stderr",
     "output_type": "stream",
     "text": [
      "Clipping input data to the valid range for imshow with RGB data ([0..1] for floats or [0..255] for integers).\n"
     ]
    },
    {
     "name": "stdout",
     "output_type": "stream",
     "text": [
      "tf.Tensor([16.  3.  8. 21.  5.  3. 10.  2.  8.], shape=(9,), dtype=float32)\n",
      "tf.Tensor([ 3.  8. 21.  5.  3. 10.  2.  8. 15.], shape=(9,), dtype=float32)\n"
     ]
    },
    {
     "data": {
      "image/png": "[encoded data removed]",
      "text/plain": [
       "<Figure size 640x480 with 1 Axes>"
      ]
     },
     "metadata": {},
     "output_type": "display_data"
    }
   ],
   "source": [
    "for (source, target), y in dataset.take(1):\n",
    "    source = source[0]\n",
    "    target = target[0]\n",
    "    y = y[0]\n",
    "    plt.imshow((source + 1) / 2)\n",
    "    print(target)\n",
    "    print(y)"
   ]
  },
  {
   "cell_type": "code",
   "execution_count": 13,
   "id": "c8fa9c7f-6c99-4811-b1f7-f8d89b3898a5",
   "metadata": {},
   "outputs": [],
   "source": [
    "import tensorflow as tf\n",
    "from tensorflow import keras\n",
    "from tensorflow.keras.layers import Input, Dense, GlobalAveragePooling2D, Embedding, LSTM\n",
    "from tensorflow.keras.models import Model\n",
    "from tensorflow.keras.applications import ResNet50"
   ]
  },
  {
   "cell_type": "code",
   "execution_count": 29,
   "id": "24f1ae72-ab0b-4db6-9d26-73bb456a16c9",
   "metadata": {},
   "outputs": [],
   "source": [
    "from tensorflow import keras\n",
    "from tensorflow.keras.layers import Input, Dense, LSTM, Embedding, GlobalAveragePooling2D, Reshape, Permute, Multiply, RepeatVector\n",
    "\n",
    "# Define attention mechanism layer\n",
    "class AttentionLayer(keras.layers.Layer):\n",
    "    def __init__(self):\n",
    "        super(AttentionLayer, self).__init__()\n",
    "\n",
    "    def build(self, input_shape):\n",
    "        self.W_a = self.add_weight(shape=(input_shape[-1], input_shape[-1]), initializer=\"random_normal\", trainable=True)\n",
    "        self.U_a = self.add_weight(shape=(input_shape[-1], input_shape[-1]), initializer=\"random_normal\", trainable=True)\n",
    "        self.V_a = self.add_weight(shape=(input_shape[-1], 1), initializer=\"random_normal\", trainable=True)\n",
    "        super(AttentionLayer, self).build(input_shape)\n",
    "\n",
    "    def call(self, encoder_output, decoder_output):\n",
    "        # Compute attention scores\n",
    "        score = tf.nn.tanh(tf.matmul(encoder_output, self.W_a) + tf.matmul(decoder_output, self.U_a))\n",
    "        attention_weights = tf.nn.softmax(tf.matmul(score, self.V_a), axis=1)\n",
    "        # Apply attention weights\n",
    "        context_vector = attention_weights * encoder_output\n",
    "        context_vector = tf.reduce_sum(context_vector, axis=1)\n",
    "        return context_vector\n",
    "\n",
    "    def repeat_vector(self, vector, num_repeats):\n",
    "        # Tile the vector num_repeats times along the time dimension\n",
    "        return tf.tile(tf.expand_dims(vector, axis=1), [1, num_repeats, 1])"
   ]
  },
  {
   "cell_type": "code",
   "execution_count": 31,
   "id": "827c2c84-adf5-4d57-bdd8-7716f5852929",
   "metadata": {},
   "outputs": [
    {
     "name": "stdout",
     "output_type": "stream",
     "text": [
      "Model: \"model_8\"\n",
      "_________________________________________________________________\n",
      " Layer (type)                Output Shape              Param #   \n",
      "=================================================================\n",
      " input_16 (InputLayer)       [(None, 224, 224, 3)]     0         \n",
      "                                                                 \n",
      " custom_encoder (CustomEnco  (None, 128)               8720384   \n",
      " der)                                                            \n",
      "                                                                 \n",
      "=================================================================\n",
      "Total params: 8720384 (33.27 MB)\n",
      "Trainable params: 131200 (512.50 KB)\n",
      "Non-trainable params: 8589184 (32.77 MB)\n",
      "_________________________________________________________________\n"
     ]
    }
   ],
   "source": [
    "import tensorflow as tf\n",
    "from tensorflow.keras import layers, Model\n",
    "\n",
    "class CustomEncoder(Model):\n",
    "    def __init__(self, desired_height, desired_width):\n",
    "        super(CustomEncoder, self).__init__()\n",
    "        self.base = tf.keras.applications.ResNet50(include_top=False, input_shape=(desired_height, desired_width, 3))\n",
    "        self.base.trainable = False\n",
    "        self.base = Model(inputs=self.base.inputs, outputs=self.base.get_layer('conv4_block6_out').output)\n",
    "        self.global_avg = layers.GlobalAveragePooling2D()\n",
    "        self.dense = layers.Dense(128, activation='relu')\n",
    "\n",
    "    def call(self, inputs):\n",
    "        x = self.base(inputs)\n",
    "        x = self.global_avg(x)\n",
    "        x = self.dense(x)\n",
    "        return x\n",
    "\n",
    "# Example usage\n",
    "desired_height = 224\n",
    "desired_width = 224\n",
    "encoder_input = layers.Input(shape=(desired_height, desired_width, 3))\n",
    "encoder = CustomEncoder(desired_height, desired_width)\n",
    "encoder_output = encoder(encoder_input)\n",
    "\n",
    "# Create a model\n",
    "model = Model(inputs=encoder_input, outputs=encoder_output)\n",
    "model.summary()"
   ]
  },
  {
   "cell_type": "code",
   "execution_count": null,
   "id": "38f0e5dd-3807-4a10-bc3c-bbf49678a98b",
   "metadata": {},
   "outputs": [],
   "source": [
    "from keras.utils import plot_model\n",
    "plot_model(model, show_dtype=True, show_shapes=True, show_layer_names=True)"
   ]
  },
  {
   "cell_type": "code",
   "execution_count": 25,
   "id": "a0d711de-f7d4-4e96-a2ea-2f44495d4cf1",
   "metadata": {},
   "outputs": [],
   "source": [
    "opt = tf.keras.optimizers.Adam(learning_rate=1e-3)\n",
    "\n",
    "model.compile(\n",
    "    optimizer=opt,\n",
    "    loss='sparse_categorical_crossentropy',\n",
    "    metrics=['accuracy'],\n",
    "\n",
    ")"
   ]
  },
  {
   "cell_type": "code",
   "execution_count": 26,
   "id": "915bd6c4-8590-442f-bfa4-316d930e49c7",
   "metadata": {},
   "outputs": [
    {
     "name": "stdout",
     "output_type": "stream",
     "text": [
      "Epoch 1/100\n"
     ]
    },
    {
     "name": "stderr",
     "output_type": "stream",
     "text": [
      "W0000 00:00:1715880494.714400   37031 graph_launch.cc:671] Fallback to op-by-op mode because memset node breaks graph update\n"
     ]
    },
    {
     "ename": "InvalidArgumentError",
     "evalue": "Graph execution error:\n\nDetected at node model_4/repeat_vector_1/Tile defined at (most recent call last):\n  File \"<frozen runpy>\", line 198, in _run_module_as_main\n\n  File \"<frozen runpy>\", line 88, in _run_code\n\n  File \"/home/syydmr/miniconda3/envs/tf15/lib/python3.11/site-packages/ipykernel_launcher.py\", line 17, in <module>\n\n  File \"/home/syydmr/miniconda3/envs/tf15/lib/python3.11/site-packages/traitlets/config/application.py\", line 1075, in launch_instance\n\n  File \"/home/syydmr/miniconda3/envs/tf15/lib/python3.11/site-packages/ipykernel/kernelapp.py\", line 739, in start\n\n  File \"/home/syydmr/miniconda3/envs/tf15/lib/python3.11/site-packages/tornado/platform/asyncio.py\", line 205, in start\n\n  File \"/home/syydmr/miniconda3/envs/tf15/lib/python3.11/asyncio/base_events.py\", line 607, in run_forever\n\n  File \"/home/syydmr/miniconda3/envs/tf15/lib/python3.11/asyncio/base_events.py\", line 1922, in _run_once\n\n  File \"/home/syydmr/miniconda3/envs/tf15/lib/python3.11/asyncio/events.py\", line 80, in _run\n\n  File \"/home/syydmr/miniconda3/envs/tf15/lib/python3.11/site-packages/ipykernel/kernelbase.py\", line 542, in dispatch_queue\n\n  File \"/home/syydmr/miniconda3/envs/tf15/lib/python3.11/site-packages/ipykernel/kernelbase.py\", line 531, in process_one\n\n  File \"/home/syydmr/miniconda3/envs/tf15/lib/python3.11/site-packages/ipykernel/kernelbase.py\", line 437, in dispatch_shell\n\n  File \"/home/syydmr/miniconda3/envs/tf15/lib/python3.11/site-packages/ipykernel/ipkernel.py\", line 359, in execute_request\n\n  File \"/home/syydmr/miniconda3/envs/tf15/lib/python3.11/site-packages/ipykernel/kernelbase.py\", line 775, in execute_request\n\n  File \"/home/syydmr/miniconda3/envs/tf15/lib/python3.11/site-packages/ipykernel/ipkernel.py\", line 446, in do_execute\n\n  File \"/home/syydmr/miniconda3/envs/tf15/lib/python3.11/site-packages/ipykernel/zmqshell.py\", line 549, in run_cell\n\n  File \"/home/syydmr/miniconda3/envs/tf15/lib/python3.11/site-packages/IPython/core/interactiveshell.py\", line 3051, in run_cell\n\n  File \"/home/syydmr/miniconda3/envs/tf15/lib/python3.11/site-packages/IPython/core/interactiveshell.py\", line 3106, in _run_cell\n\n  File \"/home/syydmr/miniconda3/envs/tf15/lib/python3.11/site-packages/IPython/core/async_helpers.py\", line 129, in _pseudo_sync_runner\n\n  File \"/home/syydmr/miniconda3/envs/tf15/lib/python3.11/site-packages/IPython/core/interactiveshell.py\", line 3311, in run_cell_async\n\n  File \"/home/syydmr/miniconda3/envs/tf15/lib/python3.11/site-packages/IPython/core/interactiveshell.py\", line 3493, in run_ast_nodes\n\n  File \"/home/syydmr/miniconda3/envs/tf15/lib/python3.11/site-packages/IPython/core/interactiveshell.py\", line 3553, in run_code\n\n  File \"/tmp/ipykernel_36959/3835757059.py\", line 1, in <module>\n\n  File \"/home/syydmr/miniconda3/envs/tf15/lib/python3.11/site-packages/keras/src/utils/traceback_utils.py\", line 65, in error_handler\n\n  File \"/home/syydmr/miniconda3/envs/tf15/lib/python3.11/site-packages/keras/src/engine/training.py\", line 1807, in fit\n\n  File \"/home/syydmr/miniconda3/envs/tf15/lib/python3.11/site-packages/keras/src/engine/training.py\", line 1401, in train_function\n\n  File \"/home/syydmr/miniconda3/envs/tf15/lib/python3.11/site-packages/keras/src/engine/training.py\", line 1384, in step_function\n\n  File \"/home/syydmr/miniconda3/envs/tf15/lib/python3.11/site-packages/keras/src/engine/training.py\", line 1373, in run_step\n\n  File \"/home/syydmr/miniconda3/envs/tf15/lib/python3.11/site-packages/keras/src/engine/training.py\", line 1150, in train_step\n\n  File \"/home/syydmr/miniconda3/envs/tf15/lib/python3.11/site-packages/keras/src/utils/traceback_utils.py\", line 65, in error_handler\n\n  File \"/home/syydmr/miniconda3/envs/tf15/lib/python3.11/site-packages/keras/src/engine/training.py\", line 590, in __call__\n\n  File \"/home/syydmr/miniconda3/envs/tf15/lib/python3.11/site-packages/keras/src/utils/traceback_utils.py\", line 65, in error_handler\n\n  File \"/home/syydmr/miniconda3/envs/tf15/lib/python3.11/site-packages/keras/src/engine/base_layer.py\", line 1149, in __call__\n\n  File \"/home/syydmr/miniconda3/envs/tf15/lib/python3.11/site-packages/keras/src/utils/traceback_utils.py\", line 96, in error_handler\n\n  File \"/home/syydmr/miniconda3/envs/tf15/lib/python3.11/site-packages/keras/src/engine/functional.py\", line 515, in call\n\n  File \"/home/syydmr/miniconda3/envs/tf15/lib/python3.11/site-packages/keras/src/engine/functional.py\", line 672, in _run_internal_graph\n\n  File \"/home/syydmr/miniconda3/envs/tf15/lib/python3.11/site-packages/keras/src/utils/traceback_utils.py\", line 65, in error_handler\n\n  File \"/home/syydmr/miniconda3/envs/tf15/lib/python3.11/site-packages/keras/src/engine/base_layer.py\", line 1149, in __call__\n\n  File \"/home/syydmr/miniconda3/envs/tf15/lib/python3.11/site-packages/keras/src/utils/traceback_utils.py\", line 96, in error_handler\n\n  File \"/home/syydmr/miniconda3/envs/tf15/lib/python3.11/site-packages/keras/src/layers/reshaping/repeat_vector.py\", line 64, in call\n\n  File \"/home/syydmr/miniconda3/envs/tf15/lib/python3.11/site-packages/keras/src/backend.py\", line 3842, in repeat\n\nExpected multiples[1] >= 0, but got 0\n\nStack trace for op definition: \ndummy_file_name:10:dummy_function_name\n\n\t [[{{node model_4/repeat_vector_1/Tile}}]]\n\ttf2xla conversion failed while converting cluster_11[_XlaCompiledKernel=true,_XlaHasReferenceVars=false,_XlaNumConstantArgs=1,_XlaNumResourceArgs=6]. Run with TF_DUMP_GRAPH_PREFIX=/path/to/dump/dir and --vmodule=xla_compiler=2 to obtain a dump of the compiled functions.\n\t [[cluster_11_1/xla_compile]] [Op:__inference_train_function_216118]",
     "output_type": "error",
     "traceback": [
      "\u001b[0;31m---------------------------------------------------------------------------\u001b[0m",
      "\u001b[0;31mInvalidArgumentError\u001b[0m                      Traceback (most recent call last)",
      "Cell \u001b[0;32mIn[26], line 1\u001b[0m\n\u001b[0;32m----> 1\u001b[0m \u001b[43mmodel\u001b[49m\u001b[38;5;241;43m.\u001b[39;49m\u001b[43mfit\u001b[49m\u001b[43m(\u001b[49m\u001b[43mdataset\u001b[49m\u001b[43m,\u001b[49m\u001b[43m \u001b[49m\u001b[43mepochs\u001b[49m\u001b[38;5;241;43m=\u001b[39;49m\u001b[38;5;241;43m100\u001b[39;49m\u001b[43m,\u001b[49m\u001b[43m \u001b[49m\u001b[43mvalidation_data\u001b[49m\u001b[38;5;241;43m=\u001b[39;49m\u001b[43mvalidation_dataset\u001b[49m\u001b[43m)\u001b[49m\n",
      "File \u001b[0;32m~/miniconda3/envs/tf15/lib/python3.11/site-packages/keras/src/utils/traceback_utils.py:70\u001b[0m, in \u001b[0;36mfilter_traceback.<locals>.error_handler\u001b[0;34m(*args, **kwargs)\u001b[0m\n\u001b[1;32m     67\u001b[0m     filtered_tb \u001b[38;5;241m=\u001b[39m _process_traceback_frames(e\u001b[38;5;241m.\u001b[39m__traceback__)\n\u001b[1;32m     68\u001b[0m     \u001b[38;5;66;03m# To get the full stack trace, call:\u001b[39;00m\n\u001b[1;32m     69\u001b[0m     \u001b[38;5;66;03m# `tf.debugging.disable_traceback_filtering()`\u001b[39;00m\n\u001b[0;32m---> 70\u001b[0m     \u001b[38;5;28;01mraise\u001b[39;00m e\u001b[38;5;241m.\u001b[39mwith_traceback(filtered_tb) \u001b[38;5;28;01mfrom\u001b[39;00m \u001b[38;5;28;01mNone\u001b[39;00m\n\u001b[1;32m     71\u001b[0m \u001b[38;5;28;01mfinally\u001b[39;00m:\n\u001b[1;32m     72\u001b[0m     \u001b[38;5;28;01mdel\u001b[39;00m filtered_tb\n",
      "File \u001b[0;32m~/miniconda3/envs/tf15/lib/python3.11/site-packages/tensorflow/python/eager/execute.py:53\u001b[0m, in \u001b[0;36mquick_execute\u001b[0;34m(op_name, num_outputs, inputs, attrs, ctx, name)\u001b[0m\n\u001b[1;32m     51\u001b[0m \u001b[38;5;28;01mtry\u001b[39;00m:\n\u001b[1;32m     52\u001b[0m   ctx\u001b[38;5;241m.\u001b[39mensure_initialized()\n\u001b[0;32m---> 53\u001b[0m   tensors \u001b[38;5;241m=\u001b[39m pywrap_tfe\u001b[38;5;241m.\u001b[39mTFE_Py_Execute(ctx\u001b[38;5;241m.\u001b[39m_handle, device_name, op_name,\n\u001b[1;32m     54\u001b[0m                                       inputs, attrs, num_outputs)\n\u001b[1;32m     55\u001b[0m \u001b[38;5;28;01mexcept\u001b[39;00m core\u001b[38;5;241m.\u001b[39m_NotOkStatusException \u001b[38;5;28;01mas\u001b[39;00m e:\n\u001b[1;32m     56\u001b[0m   \u001b[38;5;28;01mif\u001b[39;00m name \u001b[38;5;129;01mis\u001b[39;00m \u001b[38;5;129;01mnot\u001b[39;00m \u001b[38;5;28;01mNone\u001b[39;00m:\n",
      "\u001b[0;31mInvalidArgumentError\u001b[0m: Graph execution error:\n\nDetected at node model_4/repeat_vector_1/Tile defined at (most recent call last):\n  File \"<frozen runpy>\", line 198, in _run_module_as_main\n\n  File \"<frozen runpy>\", line 88, in _run_code\n\n  File \"/home/syydmr/miniconda3/envs/tf15/lib/python3.11/site-packages/ipykernel_launcher.py\", line 17, in <module>\n\n  File \"/home/syydmr/miniconda3/envs/tf15/lib/python3.11/site-packages/traitlets/config/application.py\", line 1075, in launch_instance\n\n  File \"/home/syydmr/miniconda3/envs/tf15/lib/python3.11/site-packages/ipykernel/kernelapp.py\", line 739, in start\n\n  File \"/home/syydmr/miniconda3/envs/tf15/lib/python3.11/site-packages/tornado/platform/asyncio.py\", line 205, in start\n\n  File \"/home/syydmr/miniconda3/envs/tf15/lib/python3.11/asyncio/base_events.py\", line 607, in run_forever\n\n  File \"/home/syydmr/miniconda3/envs/tf15/lib/python3.11/asyncio/base_events.py\", line 1922, in _run_once\n\n  File \"/home/syydmr/miniconda3/envs/tf15/lib/python3.11/asyncio/events.py\", line 80, in _run\n\n  File \"/home/syydmr/miniconda3/envs/tf15/lib/python3.11/site-packages/ipykernel/kernelbase.py\", line 542, in dispatch_queue\n\n  File \"/home/syydmr/miniconda3/envs/tf15/lib/python3.11/site-packages/ipykernel/kernelbase.py\", line 531, in process_one\n\n  File \"/home/syydmr/miniconda3/envs/tf15/lib/python3.11/site-packages/ipykernel/kernelbase.py\", line 437, in dispatch_shell\n\n  File \"/home/syydmr/miniconda3/envs/tf15/lib/python3.11/site-packages/ipykernel/ipkernel.py\", line 359, in execute_request\n\n  File \"/home/syydmr/miniconda3/envs/tf15/lib/python3.11/site-packages/ipykernel/kernelbase.py\", line 775, in execute_request\n\n  File \"/home/syydmr/miniconda3/envs/tf15/lib/python3.11/site-packages/ipykernel/ipkernel.py\", line 446, in do_execute\n\n  File \"/home/syydmr/miniconda3/envs/tf15/lib/python3.11/site-packages/ipykernel/zmqshell.py\", line 549, in run_cell\n\n  File \"/home/syydmr/miniconda3/envs/tf15/lib/python3.11/site-packages/IPython/core/interactiveshell.py\", line 3051, in run_cell\n\n  File \"/home/syydmr/miniconda3/envs/tf15/lib/python3.11/site-packages/IPython/core/interactiveshell.py\", line 3106, in _run_cell\n\n  File \"/home/syydmr/miniconda3/envs/tf15/lib/python3.11/site-packages/IPython/core/async_helpers.py\", line 129, in _pseudo_sync_runner\n\n  File \"/home/syydmr/miniconda3/envs/tf15/lib/python3.11/site-packages/IPython/core/interactiveshell.py\", line 3311, in run_cell_async\n\n  File \"/home/syydmr/miniconda3/envs/tf15/lib/python3.11/site-packages/IPython/core/interactiveshell.py\", line 3493, in run_ast_nodes\n\n  File \"/home/syydmr/miniconda3/envs/tf15/lib/python3.11/site-packages/IPython/core/interactiveshell.py\", line 3553, in run_code\n\n  File \"/tmp/ipykernel_36959/3835757059.py\", line 1, in <module>\n\n  File \"/home/syydmr/miniconda3/envs/tf15/lib/python3.11/site-packages/keras/src/utils/traceback_utils.py\", line 65, in error_handler\n\n  File \"/home/syydmr/miniconda3/envs/tf15/lib/python3.11/site-packages/keras/src/engine/training.py\", line 1807, in fit\n\n  File \"/home/syydmr/miniconda3/envs/tf15/lib/python3.11/site-packages/keras/src/engine/training.py\", line 1401, in train_function\n\n  File \"/home/syydmr/miniconda3/envs/tf15/lib/python3.11/site-packages/keras/src/engine/training.py\", line 1384, in step_function\n\n  File \"/home/syydmr/miniconda3/envs/tf15/lib/python3.11/site-packages/keras/src/engine/training.py\", line 1373, in run_step\n\n  File \"/home/syydmr/miniconda3/envs/tf15/lib/python3.11/site-packages/keras/src/engine/training.py\", line 1150, in train_step\n\n  File \"/home/syydmr/miniconda3/envs/tf15/lib/python3.11/site-packages/keras/src/utils/traceback_utils.py\", line 65, in error_handler\n\n  File \"/home/syydmr/miniconda3/envs/tf15/lib/python3.11/site-packages/keras/src/engine/training.py\", line 590, in __call__\n\n  File \"/home/syydmr/miniconda3/envs/tf15/lib/python3.11/site-packages/keras/src/utils/traceback_utils.py\", line 65, in error_handler\n\n  File \"/home/syydmr/miniconda3/envs/tf15/lib/python3.11/site-packages/keras/src/engine/base_layer.py\", line 1149, in __call__\n\n  File \"/home/syydmr/miniconda3/envs/tf15/lib/python3.11/site-packages/keras/src/utils/traceback_utils.py\", line 96, in error_handler\n\n  File \"/home/syydmr/miniconda3/envs/tf15/lib/python3.11/site-packages/keras/src/engine/functional.py\", line 515, in call\n\n  File \"/home/syydmr/miniconda3/envs/tf15/lib/python3.11/site-packages/keras/src/engine/functional.py\", line 672, in _run_internal_graph\n\n  File \"/home/syydmr/miniconda3/envs/tf15/lib/python3.11/site-packages/keras/src/utils/traceback_utils.py\", line 65, in error_handler\n\n  File \"/home/syydmr/miniconda3/envs/tf15/lib/python3.11/site-packages/keras/src/engine/base_layer.py\", line 1149, in __call__\n\n  File \"/home/syydmr/miniconda3/envs/tf15/lib/python3.11/site-packages/keras/src/utils/traceback_utils.py\", line 96, in error_handler\n\n  File \"/home/syydmr/miniconda3/envs/tf15/lib/python3.11/site-packages/keras/src/layers/reshaping/repeat_vector.py\", line 64, in call\n\n  File \"/home/syydmr/miniconda3/envs/tf15/lib/python3.11/site-packages/keras/src/backend.py\", line 3842, in repeat\n\nExpected multiples[1] >= 0, but got 0\n\nStack trace for op definition: \ndummy_file_name:10:dummy_function_name\n\n\t [[{{node model_4/repeat_vector_1/Tile}}]]\n\ttf2xla conversion failed while converting cluster_11[_XlaCompiledKernel=true,_XlaHasReferenceVars=false,_XlaNumConstantArgs=1,_XlaNumResourceArgs=6]. Run with TF_DUMP_GRAPH_PREFIX=/path/to/dump/dir and --vmodule=xla_compiler=2 to obtain a dump of the compiled functions.\n\t [[cluster_11_1/xla_compile]] [Op:__inference_train_function_216118]"
     ]
    }
   ],
   "source": [
    "model.fit(dataset, epochs=100, validation_data=validation_dataset)"
   ]
  },
  {
   "cell_type": "code",
   "execution_count": null,
   "id": "99ddf7e0-12dc-495d-a334-760b5dc4443e",
   "metadata": {},
   "outputs": [],
   "source": [
    "context_test2=[[0]*10]\n",
    "context_test2[0][0]=char_to_num('G')\n",
    "context_test2=np.array(context_test2)\n",
    "print('start_array',context_test2)"
   ]
  },
  {
   "cell_type": "code",
   "execution_count": null,
   "id": "4c59f3c4-5dd7-40a3-b08b-c3733f9952f4",
   "metadata": {},
   "outputs": [],
   "source": [
    "sequence=[]\n",
    "for i in range(9):\n",
    "    print(context_test2[0])\n",
    "    word_distribution=model.predict([context_test, context_test2])\n",
    "    word=np.argmax(word_distribution[0][i])\n",
    "    sequence.append(word)\n",
    "    context_test2[0][i+1]=word\n",
    "\n",
    "\n",
    "testdata=[]\n",
    "for g in sequence:\n",
    "      for value, transfer_word in word2idx.items():\n",
    "            if transfer_word == g:\n",
    "                testdata.append(value)\n",
    "print(testdata)"
   ]
  }
 ],
 "metadata": {
  "kernelspec": {
   "display_name": "Python 3 (ipykernel)",
   "language": "python",
   "name": "python3"
  },
  "language_info": {
   "codemirror_mode": {
    "name": "ipython",
    "version": 3
   },
   "file_extension": ".py",
   "mimetype": "text/x-python",
   "name": "python",
   "nbconvert_exporter": "python",
   "pygments_lexer": "ipython3",
   "version": "3.11.5"
  }
 },
 "nbformat": 4,
 "nbformat_minor": 5
}
