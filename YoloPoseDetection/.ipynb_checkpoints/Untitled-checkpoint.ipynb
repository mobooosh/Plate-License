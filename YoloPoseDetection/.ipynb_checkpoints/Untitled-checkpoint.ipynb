{
 "cells": [
  {
   "cell_type": "code",
   "execution_count": null,
   "id": "9eeebeb9-1d56-48de-887b-cdf9652670ac",
   "metadata": {},
   "outputs": [],
   "source": [
    "from google.colab import drive\n",
    "drive.mount('/content/drive')"
   ]
  },
  {
   "cell_type": "code",
   "execution_count": null,
   "id": "2d559d8d-2412-481b-b4ce-02b8601c32e6",
   "metadata": {},
   "outputs": [],
   "source": [
    "!ls \"/content/drive/My Drive/\""
   ]
  },
  {
   "cell_type": "code",
   "execution_count": null,
   "id": "61c2f579-dd6e-40b7-a6c2-c8897060edee",
   "metadata": {},
   "outputs": [],
   "source": [
    "!unzip \"/content/drive/My Drive/plateLicAnot.zip\""
   ]
  },
  {
   "cell_type": "code",
   "execution_count": null,
   "id": "01529a52-7d75-4bc1-b68f-33ee4771c393",
   "metadata": {},
   "outputs": [],
   "source": [
    "from ultralytics import YOLO"
   ]
  },
  {
   "cell_type": "code",
   "execution_count": null,
   "id": "43d84040-c256-4758-bd64-b3fc26b1ae89",
   "metadata": {},
   "outputs": [],
   "source": [
    "model = YOLO('yolov8n-pose.pt')"
   ]
  },
  {
   "cell_type": "code",
   "execution_count": null,
   "id": "43890c2c-34e1-44e7-aa0e-c1beba816792",
   "metadata": {},
   "outputs": [],
   "source": [
    "model.train(data='config.yaml', epochs=5, imgsz=640, batch=32)"
   ]
  },
  {
   "cell_type": "code",
   "execution_count": 1,
   "id": "9001f388-2905-4b4d-9185-bb7003ce918a",
   "metadata": {},
   "outputs": [
    {
     "name": "stdout",
     "output_type": "stream",
     "text": [
      "--2024-05-18 16:53:38--  https://github.com/ultralytics/assets/releases/download/v8.2.0/yolov8s-pose.pt\n",
      "Connecting to 127.0.0.1:2334... failed: Connection refused.\n"
     ]
    }
   ],
   "source": [
    "!wget https://github.com/ultralytics/assets/releases/download/v8.2.0/yolov8s-pose.pt"
   ]
  },
  {
   "cell_type": "code",
   "execution_count": 2,
   "id": "3bb1d956-1adc-4d4f-9505-6cfa57ea2b1c",
   "metadata": {},
   "outputs": [
    {
     "name": "stdout",
     "output_type": "stream",
     "text": [
      "--2024-05-18 16:54:14--  https://github.com/ultralytics/assets/releases/download/v8.2.0/yolov8n-pose.pt\n",
      "Connecting to 127.0.0.1:2334... failed: Connection refused.\n"
     ]
    }
   ],
   "source": [
    "!wget https://github.com/ultralytics/assets/releases/download/v8.2.0/yolov8n-pose.pt"
   ]
  },
  {
   "cell_type": "code",
   "execution_count": null,
   "id": "bc6b20c2-6933-4baf-a399-8e36ac99d945",
   "metadata": {},
   "outputs": [],
   "source": []
  }
 ],
 "metadata": {
  "kernelspec": {
   "display_name": "Python 3 (ipykernel)",
   "language": "python",
   "name": "python3"
  },
  "language_info": {
   "codemirror_mode": {
    "name": "ipython",
    "version": 3
   },
   "file_extension": ".py",
   "mimetype": "text/x-python",
   "name": "python",
   "nbconvert_exporter": "python",
   "pygments_lexer": "ipython3",
   "version": "3.11.5"
  }
 },
 "nbformat": 4,
 "nbformat_minor": 5
}
